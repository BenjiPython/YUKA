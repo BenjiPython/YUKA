{
 "cells": [
  {
   "cell_type": "markdown",
   "id": "50b3e461",
   "metadata": {},
   "source": [
    "# Projet : réaliser une étude sur les produits alimentaires"
   ]
  },
  {
   "cell_type": "markdown",
   "id": "2830f82a",
   "metadata": {},
   "source": [
    "## 1 - Contexte"
   ]
  },
  {
   "cell_type": "markdown",
   "id": "61616f74",
   "metadata": {},
   "source": [
    "Vous réalisez une mission \"UFC-Que Choisir\". Cette association vous demande de réaliser une étude \n",
    "sur la qualité des produits alimentaires mis à disposition des consommateurs par les marques. Cette étude a vocation à aider les consommateurs dans leurs choix."
   ]
  },
  {
   "cell_type": "markdown",
   "id": "ee9122d5",
   "metadata": {},
   "source": [
    "L'objectif est d'analyser les marques sur au moins les critères suivants : la qualité nutritionnelle, l'impact environnemental, la part des produits biologiques.\n"
   ]
  },
  {
   "cell_type": "markdown",
   "id": "30eda468",
   "metadata": {},
   "source": [
    "Pour cela, vous proposer d'utiliser les données de l'application Yuka"
   ]
  },
  {
   "cell_type": "markdown",
   "id": "b9645916",
   "metadata": {},
   "source": [
    "Voici une liste des questions que se pose l'association : \n",
    "\n",
    "- Quelles sont les marques qui jouent le jeu et affichent le nutriscore ? Lesquelles ne le font pas?\n",
    "\n",
    "- Quelles sont les marques qui ont le plus recours aux additifs nocifs\n",
    "\n",
    "- Quelles sont les marques qui présentent des produits avec la meilleure qualité nutritionnelle ? Les pires ?\n",
    "\n",
    "- Quelles sont les marques qui jouent le jeu et affichent l'ecosore ? Lesquelles ne le font pas?\n",
    "\n",
    "- Quelles sont les marques qui semblent le plus respectueuses de l'environnement ? le moins?\n",
    "\n",
    "- Quelles sont les marques qui proposent essentiellement des produits biologiques ?\n",
    "\n",
    "- Observe-t-on une corrélation entre le caratère bio des produits et la qualité nutritionnelle ? \n",
    "\n",
    "- Observe-t-on une corrélation entre le caratère bio des produits et l'aspect envionnemental ?\n",
    "\n",
    "- Observe-t-on une corrélation entre la la qualité nutritionnelle et l'aspec envionnemental ?\n",
    "\n",
    "- Quelles marques faut-il recommander ? \n",
    "\n",
    "- Quelles marques ne faut-il surtout pas recommander ? \n",
    "\n",
    "\n"
   ]
  },
  {
   "cell_type": "markdown",
   "id": "f1841ca7",
   "metadata": {},
   "source": [
    "## 2 - Données"
   ]
  },
  {
   "cell_type": "markdown",
   "id": "ce9807b9",
   "metadata": {},
   "source": [
    "3 fichiers issues de l'application Yuka sont à exploiter pour réaliser l'analyse. \n"
   ]
  },
  {
   "cell_type": "markdown",
   "id": "4d581f15",
   "metadata": {},
   "source": [
    "Agriculture_biologique_final.csv\n",
    "\n",
    "Qualite nutritionnelle_final.csv\n",
    "\n",
    "Impact environnemental_final.csv"
   ]
  },
  {
   "cell_type": "markdown",
   "id": "c8cd1945",
   "metadata": {},
   "source": [
    "Voici le lien pour récupérer les fichiers"
   ]
  },
  {
   "cell_type": "markdown",
   "id": "36a7e945",
   "metadata": {},
   "source": [
    "# https://www.dropbox.com/sh/pwsv4coi2sbbhyo/AABJ81-xWu3K2Cl0DOCmwbGsa?dl=0"
   ]
  },
  {
   "cell_type": "markdown",
   "id": "460cd91d",
   "metadata": {},
   "source": [
    "## 3 - Consignes"
   ]
  },
  {
   "cell_type": "markdown",
   "id": "b2bbef38",
   "metadata": {},
   "source": [
    "Travail de groupe de 3 personnes. \n",
    "\n",
    "Pour l'évaluation CC, chaque groupe doit livrer à la fin des sessions :\n",
    "\n",
    "    - un rapport synthétisant l'analyse faite et les conculusions obtenues\n",
    "    \n",
    "    - un notebook nettoyé et commenté"
   ]
  },
  {
   "cell_type": "markdown",
   "id": "59fff2c7",
   "metadata": {},
   "source": [
    "## 4 - Contraintes\n",
    "\n",
    "Votre analyse doit inclure des analyses univariées et multivariées\n"
   ]
  },
  {
   "cell_type": "markdown",
   "id": "69189886",
   "metadata": {},
   "source": [
    "## 5 - Préparation de l'environnement"
   ]
  },
  {
   "cell_type": "code",
   "execution_count": 2,
   "id": "d0bed882",
   "metadata": {},
   "outputs": [],
   "source": [
    "# Import de la librairie Pandas\n",
    "import pandas as pd\n",
    "import numpy as np\n",
    "\n",
    "# Import de la librairie matplotlib\n",
    "import matplotlib.pyplot as plt"
   ]
  },
  {
   "cell_type": "markdown",
   "id": "3e9ef769",
   "metadata": {},
   "source": [
    "## 6 - A vous de jouer¶"
   ]
  },
  {
   "cell_type": "markdown",
   "id": "7f70d724",
   "metadata": {},
   "source": [
    "Inspirez-vous du TP vu en cours"
   ]
  },
  {
   "cell_type": "markdown",
   "id": "9da02c6d-a2ce-4144-905f-9a336aa048ae",
   "metadata": {},
   "source": [
    "# Jointure "
   ]
  },
  {
   "cell_type": "code",
   "execution_count": 3,
   "id": "456504fe",
   "metadata": {},
   "outputs": [
    {
     "ename": "FileNotFoundError",
     "evalue": "[Errno 2] No such file or directory: 'Agriculture_biologique_final.csv'",
     "output_type": "error",
     "traceback": [
      "\u001b[1;31m---------------------------------------------------------------------------\u001b[0m",
      "\u001b[1;31mFileNotFoundError\u001b[0m                         Traceback (most recent call last)",
      "Cell \u001b[1;32mIn[3], line 1\u001b[0m\n\u001b[1;32m----> 1\u001b[0m bio \u001b[38;5;241m=\u001b[39m pd\u001b[38;5;241m.\u001b[39mread_csv(\u001b[38;5;124m\"\u001b[39m\u001b[38;5;124mAgriculture_biologique_final.csv\u001b[39m\u001b[38;5;124m\"\u001b[39m, sep \u001b[38;5;241m=\u001b[39m\u001b[38;5;124m\"\u001b[39m\u001b[38;5;130;01m\\t\u001b[39;00m\u001b[38;5;124m\"\u001b[39m)\n",
      "File \u001b[1;32m~\\anaconda3\\envs\\myenv\\Lib\\site-packages\\pandas\\io\\parsers\\readers.py:912\u001b[0m, in \u001b[0;36mread_csv\u001b[1;34m(filepath_or_buffer, sep, delimiter, header, names, index_col, usecols, dtype, engine, converters, true_values, false_values, skipinitialspace, skiprows, skipfooter, nrows, na_values, keep_default_na, na_filter, verbose, skip_blank_lines, parse_dates, infer_datetime_format, keep_date_col, date_parser, date_format, dayfirst, cache_dates, iterator, chunksize, compression, thousands, decimal, lineterminator, quotechar, quoting, doublequote, escapechar, comment, encoding, encoding_errors, dialect, on_bad_lines, delim_whitespace, low_memory, memory_map, float_precision, storage_options, dtype_backend)\u001b[0m\n\u001b[0;32m    899\u001b[0m kwds_defaults \u001b[38;5;241m=\u001b[39m _refine_defaults_read(\n\u001b[0;32m    900\u001b[0m     dialect,\n\u001b[0;32m    901\u001b[0m     delimiter,\n\u001b[1;32m   (...)\u001b[0m\n\u001b[0;32m    908\u001b[0m     dtype_backend\u001b[38;5;241m=\u001b[39mdtype_backend,\n\u001b[0;32m    909\u001b[0m )\n\u001b[0;32m    910\u001b[0m kwds\u001b[38;5;241m.\u001b[39mupdate(kwds_defaults)\n\u001b[1;32m--> 912\u001b[0m \u001b[38;5;28;01mreturn\u001b[39;00m _read(filepath_or_buffer, kwds)\n",
      "File \u001b[1;32m~\\anaconda3\\envs\\myenv\\Lib\\site-packages\\pandas\\io\\parsers\\readers.py:577\u001b[0m, in \u001b[0;36m_read\u001b[1;34m(filepath_or_buffer, kwds)\u001b[0m\n\u001b[0;32m    574\u001b[0m _validate_names(kwds\u001b[38;5;241m.\u001b[39mget(\u001b[38;5;124m\"\u001b[39m\u001b[38;5;124mnames\u001b[39m\u001b[38;5;124m\"\u001b[39m, \u001b[38;5;28;01mNone\u001b[39;00m))\n\u001b[0;32m    576\u001b[0m \u001b[38;5;66;03m# Create the parser.\u001b[39;00m\n\u001b[1;32m--> 577\u001b[0m parser \u001b[38;5;241m=\u001b[39m TextFileReader(filepath_or_buffer, \u001b[38;5;241m*\u001b[39m\u001b[38;5;241m*\u001b[39mkwds)\n\u001b[0;32m    579\u001b[0m \u001b[38;5;28;01mif\u001b[39;00m chunksize \u001b[38;5;129;01mor\u001b[39;00m iterator:\n\u001b[0;32m    580\u001b[0m     \u001b[38;5;28;01mreturn\u001b[39;00m parser\n",
      "File \u001b[1;32m~\\anaconda3\\envs\\myenv\\Lib\\site-packages\\pandas\\io\\parsers\\readers.py:1407\u001b[0m, in \u001b[0;36mTextFileReader.__init__\u001b[1;34m(self, f, engine, **kwds)\u001b[0m\n\u001b[0;32m   1404\u001b[0m     \u001b[38;5;28mself\u001b[39m\u001b[38;5;241m.\u001b[39moptions[\u001b[38;5;124m\"\u001b[39m\u001b[38;5;124mhas_index_names\u001b[39m\u001b[38;5;124m\"\u001b[39m] \u001b[38;5;241m=\u001b[39m kwds[\u001b[38;5;124m\"\u001b[39m\u001b[38;5;124mhas_index_names\u001b[39m\u001b[38;5;124m\"\u001b[39m]\n\u001b[0;32m   1406\u001b[0m \u001b[38;5;28mself\u001b[39m\u001b[38;5;241m.\u001b[39mhandles: IOHandles \u001b[38;5;241m|\u001b[39m \u001b[38;5;28;01mNone\u001b[39;00m \u001b[38;5;241m=\u001b[39m \u001b[38;5;28;01mNone\u001b[39;00m\n\u001b[1;32m-> 1407\u001b[0m \u001b[38;5;28mself\u001b[39m\u001b[38;5;241m.\u001b[39m_engine \u001b[38;5;241m=\u001b[39m \u001b[38;5;28mself\u001b[39m\u001b[38;5;241m.\u001b[39m_make_engine(f, \u001b[38;5;28mself\u001b[39m\u001b[38;5;241m.\u001b[39mengine)\n",
      "File \u001b[1;32m~\\anaconda3\\envs\\myenv\\Lib\\site-packages\\pandas\\io\\parsers\\readers.py:1661\u001b[0m, in \u001b[0;36mTextFileReader._make_engine\u001b[1;34m(self, f, engine)\u001b[0m\n\u001b[0;32m   1659\u001b[0m     \u001b[38;5;28;01mif\u001b[39;00m \u001b[38;5;124m\"\u001b[39m\u001b[38;5;124mb\u001b[39m\u001b[38;5;124m\"\u001b[39m \u001b[38;5;129;01mnot\u001b[39;00m \u001b[38;5;129;01min\u001b[39;00m mode:\n\u001b[0;32m   1660\u001b[0m         mode \u001b[38;5;241m+\u001b[39m\u001b[38;5;241m=\u001b[39m \u001b[38;5;124m\"\u001b[39m\u001b[38;5;124mb\u001b[39m\u001b[38;5;124m\"\u001b[39m\n\u001b[1;32m-> 1661\u001b[0m \u001b[38;5;28mself\u001b[39m\u001b[38;5;241m.\u001b[39mhandles \u001b[38;5;241m=\u001b[39m get_handle(\n\u001b[0;32m   1662\u001b[0m     f,\n\u001b[0;32m   1663\u001b[0m     mode,\n\u001b[0;32m   1664\u001b[0m     encoding\u001b[38;5;241m=\u001b[39m\u001b[38;5;28mself\u001b[39m\u001b[38;5;241m.\u001b[39moptions\u001b[38;5;241m.\u001b[39mget(\u001b[38;5;124m\"\u001b[39m\u001b[38;5;124mencoding\u001b[39m\u001b[38;5;124m\"\u001b[39m, \u001b[38;5;28;01mNone\u001b[39;00m),\n\u001b[0;32m   1665\u001b[0m     compression\u001b[38;5;241m=\u001b[39m\u001b[38;5;28mself\u001b[39m\u001b[38;5;241m.\u001b[39moptions\u001b[38;5;241m.\u001b[39mget(\u001b[38;5;124m\"\u001b[39m\u001b[38;5;124mcompression\u001b[39m\u001b[38;5;124m\"\u001b[39m, \u001b[38;5;28;01mNone\u001b[39;00m),\n\u001b[0;32m   1666\u001b[0m     memory_map\u001b[38;5;241m=\u001b[39m\u001b[38;5;28mself\u001b[39m\u001b[38;5;241m.\u001b[39moptions\u001b[38;5;241m.\u001b[39mget(\u001b[38;5;124m\"\u001b[39m\u001b[38;5;124mmemory_map\u001b[39m\u001b[38;5;124m\"\u001b[39m, \u001b[38;5;28;01mFalse\u001b[39;00m),\n\u001b[0;32m   1667\u001b[0m     is_text\u001b[38;5;241m=\u001b[39mis_text,\n\u001b[0;32m   1668\u001b[0m     errors\u001b[38;5;241m=\u001b[39m\u001b[38;5;28mself\u001b[39m\u001b[38;5;241m.\u001b[39moptions\u001b[38;5;241m.\u001b[39mget(\u001b[38;5;124m\"\u001b[39m\u001b[38;5;124mencoding_errors\u001b[39m\u001b[38;5;124m\"\u001b[39m, \u001b[38;5;124m\"\u001b[39m\u001b[38;5;124mstrict\u001b[39m\u001b[38;5;124m\"\u001b[39m),\n\u001b[0;32m   1669\u001b[0m     storage_options\u001b[38;5;241m=\u001b[39m\u001b[38;5;28mself\u001b[39m\u001b[38;5;241m.\u001b[39moptions\u001b[38;5;241m.\u001b[39mget(\u001b[38;5;124m\"\u001b[39m\u001b[38;5;124mstorage_options\u001b[39m\u001b[38;5;124m\"\u001b[39m, \u001b[38;5;28;01mNone\u001b[39;00m),\n\u001b[0;32m   1670\u001b[0m )\n\u001b[0;32m   1671\u001b[0m \u001b[38;5;28;01massert\u001b[39;00m \u001b[38;5;28mself\u001b[39m\u001b[38;5;241m.\u001b[39mhandles \u001b[38;5;129;01mis\u001b[39;00m \u001b[38;5;129;01mnot\u001b[39;00m \u001b[38;5;28;01mNone\u001b[39;00m\n\u001b[0;32m   1672\u001b[0m f \u001b[38;5;241m=\u001b[39m \u001b[38;5;28mself\u001b[39m\u001b[38;5;241m.\u001b[39mhandles\u001b[38;5;241m.\u001b[39mhandle\n",
      "File \u001b[1;32m~\\anaconda3\\envs\\myenv\\Lib\\site-packages\\pandas\\io\\common.py:859\u001b[0m, in \u001b[0;36mget_handle\u001b[1;34m(path_or_buf, mode, encoding, compression, memory_map, is_text, errors, storage_options)\u001b[0m\n\u001b[0;32m    854\u001b[0m \u001b[38;5;28;01melif\u001b[39;00m \u001b[38;5;28misinstance\u001b[39m(handle, \u001b[38;5;28mstr\u001b[39m):\n\u001b[0;32m    855\u001b[0m     \u001b[38;5;66;03m# Check whether the filename is to be opened in binary mode.\u001b[39;00m\n\u001b[0;32m    856\u001b[0m     \u001b[38;5;66;03m# Binary mode does not support 'encoding' and 'newline'.\u001b[39;00m\n\u001b[0;32m    857\u001b[0m     \u001b[38;5;28;01mif\u001b[39;00m ioargs\u001b[38;5;241m.\u001b[39mencoding \u001b[38;5;129;01mand\u001b[39;00m \u001b[38;5;124m\"\u001b[39m\u001b[38;5;124mb\u001b[39m\u001b[38;5;124m\"\u001b[39m \u001b[38;5;129;01mnot\u001b[39;00m \u001b[38;5;129;01min\u001b[39;00m ioargs\u001b[38;5;241m.\u001b[39mmode:\n\u001b[0;32m    858\u001b[0m         \u001b[38;5;66;03m# Encoding\u001b[39;00m\n\u001b[1;32m--> 859\u001b[0m         handle \u001b[38;5;241m=\u001b[39m \u001b[38;5;28mopen\u001b[39m(\n\u001b[0;32m    860\u001b[0m             handle,\n\u001b[0;32m    861\u001b[0m             ioargs\u001b[38;5;241m.\u001b[39mmode,\n\u001b[0;32m    862\u001b[0m             encoding\u001b[38;5;241m=\u001b[39mioargs\u001b[38;5;241m.\u001b[39mencoding,\n\u001b[0;32m    863\u001b[0m             errors\u001b[38;5;241m=\u001b[39merrors,\n\u001b[0;32m    864\u001b[0m             newline\u001b[38;5;241m=\u001b[39m\u001b[38;5;124m\"\u001b[39m\u001b[38;5;124m\"\u001b[39m,\n\u001b[0;32m    865\u001b[0m         )\n\u001b[0;32m    866\u001b[0m     \u001b[38;5;28;01melse\u001b[39;00m:\n\u001b[0;32m    867\u001b[0m         \u001b[38;5;66;03m# Binary mode\u001b[39;00m\n\u001b[0;32m    868\u001b[0m         handle \u001b[38;5;241m=\u001b[39m \u001b[38;5;28mopen\u001b[39m(handle, ioargs\u001b[38;5;241m.\u001b[39mmode)\n",
      "\u001b[1;31mFileNotFoundError\u001b[0m: [Errno 2] No such file or directory: 'Agriculture_biologique_final.csv'"
     ]
    }
   ],
   "source": [
    "bio = pd.read_csv(\"Agriculture_biologique_final.csv\", sep =\"\\t\")"
   ]
  },
  {
   "cell_type": "code",
   "execution_count": 3,
   "id": "bb19c065",
   "metadata": {},
   "outputs": [
    {
     "data": {
      "text/html": [
       "<div>\n",
       "<style scoped>\n",
       "    .dataframe tbody tr th:only-of-type {\n",
       "        vertical-align: middle;\n",
       "    }\n",
       "\n",
       "    .dataframe tbody tr th {\n",
       "        vertical-align: top;\n",
       "    }\n",
       "\n",
       "    .dataframe thead th {\n",
       "        text-align: right;\n",
       "    }\n",
       "</style>\n",
       "<table border=\"1\" class=\"dataframe\">\n",
       "  <thead>\n",
       "    <tr style=\"text-align: right;\">\n",
       "      <th></th>\n",
       "      <th>product_name</th>\n",
       "      <th>brands_tags</th>\n",
       "      <th>serving_size</th>\n",
       "      <th>est_bio</th>\n",
       "    </tr>\n",
       "  </thead>\n",
       "  <tbody>\n",
       "    <tr>\n",
       "      <th>0</th>\n",
       "      <td>Skyr</td>\n",
       "      <td>danone</td>\n",
       "      <td>NaN</td>\n",
       "      <td>False</td>\n",
       "    </tr>\n",
       "    <tr>\n",
       "      <th>1</th>\n",
       "      <td>moutarde au moût de raisin</td>\n",
       "      <td>courte-paille</td>\n",
       "      <td>NaN</td>\n",
       "      <td>False</td>\n",
       "    </tr>\n",
       "    <tr>\n",
       "      <th>2</th>\n",
       "      <td>Solène céréales poulet</td>\n",
       "      <td>crous</td>\n",
       "      <td>NaN</td>\n",
       "      <td>False</td>\n",
       "    </tr>\n",
       "    <tr>\n",
       "      <th>3</th>\n",
       "      <td>Tarte noix de coco</td>\n",
       "      <td>crous-resto,crous</td>\n",
       "      <td>NaN</td>\n",
       "      <td>False</td>\n",
       "    </tr>\n",
       "    <tr>\n",
       "      <th>4</th>\n",
       "      <td>Crème dessert chocolat</td>\n",
       "      <td>ferme-de-la-fremondiere</td>\n",
       "      <td>NaN</td>\n",
       "      <td>False</td>\n",
       "    </tr>\n",
       "    <tr>\n",
       "      <th>...</th>\n",
       "      <td>...</td>\n",
       "      <td>...</td>\n",
       "      <td>...</td>\n",
       "      <td>...</td>\n",
       "    </tr>\n",
       "    <tr>\n",
       "      <th>463917</th>\n",
       "      <td>Saveur ABRICIT</td>\n",
       "      <td>gerble</td>\n",
       "      <td>NaN</td>\n",
       "      <td>False</td>\n",
       "    </tr>\n",
       "    <tr>\n",
       "      <th>463918</th>\n",
       "      <td>Lindt pâte à tartiner</td>\n",
       "      <td>lindt</td>\n",
       "      <td>NaN</td>\n",
       "      <td>False</td>\n",
       "    </tr>\n",
       "    <tr>\n",
       "      <th>463919</th>\n",
       "      <td>Biodrink antioxydant pendant effort</td>\n",
       "      <td>punch-power</td>\n",
       "      <td>NaN</td>\n",
       "      <td>True</td>\n",
       "    </tr>\n",
       "    <tr>\n",
       "      <th>463920</th>\n",
       "      <td>miel de fleurs sauvage</td>\n",
       "      <td>miellerie-de-la-natouze</td>\n",
       "      <td>NaN</td>\n",
       "      <td>False</td>\n",
       "    </tr>\n",
       "    <tr>\n",
       "      <th>463921</th>\n",
       "      <td>Thé noir BIO Darjeeling</td>\n",
       "      <td>pages</td>\n",
       "      <td>NaN</td>\n",
       "      <td>False</td>\n",
       "    </tr>\n",
       "  </tbody>\n",
       "</table>\n",
       "<p>463922 rows × 4 columns</p>\n",
       "</div>"
      ],
      "text/plain": [
       "                               product_name              brands_tags  \\\n",
       "0                                      Skyr                   danone   \n",
       "1               moutarde au moût de raisin             courte-paille   \n",
       "2                    Solène céréales poulet                    crous   \n",
       "3                        Tarte noix de coco        crous-resto,crous   \n",
       "4                    Crème dessert chocolat  ferme-de-la-fremondiere   \n",
       "...                                     ...                      ...   \n",
       "463917                       Saveur ABRICIT                   gerble   \n",
       "463918                Lindt pâte à tartiner                    lindt   \n",
       "463919  Biodrink antioxydant pendant effort              punch-power   \n",
       "463920               miel de fleurs sauvage  miellerie-de-la-natouze   \n",
       "463921              Thé noir BIO Darjeeling                    pages   \n",
       "\n",
       "       serving_size  est_bio  \n",
       "0               NaN    False  \n",
       "1               NaN    False  \n",
       "2               NaN    False  \n",
       "3               NaN    False  \n",
       "4               NaN    False  \n",
       "...             ...      ...  \n",
       "463917          NaN    False  \n",
       "463918          NaN    False  \n",
       "463919          NaN     True  \n",
       "463920          NaN    False  \n",
       "463921          NaN    False  \n",
       "\n",
       "[463922 rows x 4 columns]"
      ]
     },
     "execution_count": 3,
     "metadata": {},
     "output_type": "execute_result"
    }
   ],
   "source": [
    "bio"
   ]
  },
  {
   "cell_type": "code",
   "execution_count": 123,
   "id": "669e5d86-8ef2-40e8-abeb-361e22cea338",
   "metadata": {},
   "outputs": [
    {
     "data": {
      "text/html": [
       "<div>\n",
       "<style scoped>\n",
       "    .dataframe tbody tr th:only-of-type {\n",
       "        vertical-align: middle;\n",
       "    }\n",
       "\n",
       "    .dataframe tbody tr th {\n",
       "        vertical-align: top;\n",
       "    }\n",
       "\n",
       "    .dataframe thead th {\n",
       "        text-align: right;\n",
       "    }\n",
       "</style>\n",
       "<table border=\"1\" class=\"dataframe\">\n",
       "  <thead>\n",
       "    <tr style=\"text-align: right;\">\n",
       "      <th></th>\n",
       "      <th>code</th>\n",
       "      <th>product_name</th>\n",
       "      <th>quantity</th>\n",
       "      <th>brands_tags</th>\n",
       "      <th>countries_tags</th>\n",
       "      <th>serving_size</th>\n",
       "      <th>image_url</th>\n",
       "      <th>ecoscore_grade</th>\n",
       "      <th>est_plastique</th>\n",
       "      <th>est_palm</th>\n",
       "      <th>est_cocoa</th>\n",
       "    </tr>\n",
       "  </thead>\n",
       "  <tbody>\n",
       "    <tr>\n",
       "      <th>0</th>\n",
       "      <td>00000000000026772226</td>\n",
       "      <td>Skyr</td>\n",
       "      <td>480 g</td>\n",
       "      <td>danone</td>\n",
       "      <td>en:france</td>\n",
       "      <td>NaN</td>\n",
       "      <td>https://images.openfoodfacts.org/images/produc...</td>\n",
       "      <td>d</td>\n",
       "      <td>False</td>\n",
       "      <td>False</td>\n",
       "      <td>False</td>\n",
       "    </tr>\n",
       "    <tr>\n",
       "      <th>1</th>\n",
       "      <td>0000000000017</td>\n",
       "      <td>Vitória crackers</td>\n",
       "      <td>NaN</td>\n",
       "      <td>NaN</td>\n",
       "      <td>en:france</td>\n",
       "      <td>NaN</td>\n",
       "      <td>https://images.openfoodfacts.org/images/produc...</td>\n",
       "      <td>unknown</td>\n",
       "      <td>False</td>\n",
       "      <td>False</td>\n",
       "      <td>False</td>\n",
       "    </tr>\n",
       "    <tr>\n",
       "      <th>2</th>\n",
       "      <td>0000000000031</td>\n",
       "      <td>Cacao</td>\n",
       "      <td>130 g</td>\n",
       "      <td>NaN</td>\n",
       "      <td>en:france</td>\n",
       "      <td>NaN</td>\n",
       "      <td>https://images.openfoodfacts.org/images/produc...</td>\n",
       "      <td>unknown</td>\n",
       "      <td>False</td>\n",
       "      <td>False</td>\n",
       "      <td>False</td>\n",
       "    </tr>\n",
       "    <tr>\n",
       "      <th>3</th>\n",
       "      <td>0000000000100</td>\n",
       "      <td>moutarde au moût de raisin</td>\n",
       "      <td>100g</td>\n",
       "      <td>courte-paille</td>\n",
       "      <td>en:france</td>\n",
       "      <td>NaN</td>\n",
       "      <td>https://images.openfoodfacts.org/images/produc...</td>\n",
       "      <td>c</td>\n",
       "      <td>False</td>\n",
       "      <td>False</td>\n",
       "      <td>False</td>\n",
       "    </tr>\n",
       "    <tr>\n",
       "      <th>4</th>\n",
       "      <td>0000000000123</td>\n",
       "      <td>Sauce Sweety chili 0%</td>\n",
       "      <td>NaN</td>\n",
       "      <td>NaN</td>\n",
       "      <td>en:france</td>\n",
       "      <td>NaN</td>\n",
       "      <td>https://images.openfoodfacts.org/images/produc...</td>\n",
       "      <td>unknown</td>\n",
       "      <td>False</td>\n",
       "      <td>False</td>\n",
       "      <td>False</td>\n",
       "    </tr>\n",
       "    <tr>\n",
       "      <th>...</th>\n",
       "      <td>...</td>\n",
       "      <td>...</td>\n",
       "      <td>...</td>\n",
       "      <td>...</td>\n",
       "      <td>...</td>\n",
       "      <td>...</td>\n",
       "      <td>...</td>\n",
       "      <td>...</td>\n",
       "      <td>...</td>\n",
       "      <td>...</td>\n",
       "      <td>...</td>\n",
       "    </tr>\n",
       "    <tr>\n",
       "      <th>932861</th>\n",
       "      <td>9999991953895</td>\n",
       "      <td>Crème de Marrons</td>\n",
       "      <td>NaN</td>\n",
       "      <td>NaN</td>\n",
       "      <td>en:france</td>\n",
       "      <td>NaN</td>\n",
       "      <td>https://images.openfoodfacts.org/images/produc...</td>\n",
       "      <td>unknown</td>\n",
       "      <td>False</td>\n",
       "      <td>False</td>\n",
       "      <td>False</td>\n",
       "    </tr>\n",
       "    <tr>\n",
       "      <th>932862</th>\n",
       "      <td>9999992756068</td>\n",
       "      <td>Steak haché</td>\n",
       "      <td>500 g</td>\n",
       "      <td>NaN</td>\n",
       "      <td>en:france</td>\n",
       "      <td>NaN</td>\n",
       "      <td>https://images.openfoodfacts.org/images/produc...</td>\n",
       "      <td>e</td>\n",
       "      <td>False</td>\n",
       "      <td>False</td>\n",
       "      <td>False</td>\n",
       "    </tr>\n",
       "    <tr>\n",
       "      <th>932863</th>\n",
       "      <td>9999992756112</td>\n",
       "      <td>Steak haché</td>\n",
       "      <td>1 kg</td>\n",
       "      <td>NaN</td>\n",
       "      <td>en:france</td>\n",
       "      <td>NaN</td>\n",
       "      <td>https://images.openfoodfacts.org/images/produc...</td>\n",
       "      <td>unknown</td>\n",
       "      <td>False</td>\n",
       "      <td>False</td>\n",
       "      <td>False</td>\n",
       "    </tr>\n",
       "    <tr>\n",
       "      <th>932864</th>\n",
       "      <td>999999999</td>\n",
       "      <td>Thé noir BIO Darjeeling</td>\n",
       "      <td>NaN</td>\n",
       "      <td>pages</td>\n",
       "      <td>en:france</td>\n",
       "      <td>NaN</td>\n",
       "      <td>NaN</td>\n",
       "      <td>unknown</td>\n",
       "      <td>False</td>\n",
       "      <td>False</td>\n",
       "      <td>False</td>\n",
       "    </tr>\n",
       "    <tr>\n",
       "      <th>932865</th>\n",
       "      <td>9999999999994</td>\n",
       "      <td>Light &amp; Free SKYR A BOIRE</td>\n",
       "      <td>NaN</td>\n",
       "      <td>NaN</td>\n",
       "      <td>en:france</td>\n",
       "      <td>NaN</td>\n",
       "      <td>https://images.openfoodfacts.org/images/produc...</td>\n",
       "      <td>unknown</td>\n",
       "      <td>False</td>\n",
       "      <td>False</td>\n",
       "      <td>False</td>\n",
       "    </tr>\n",
       "  </tbody>\n",
       "</table>\n",
       "<p>932866 rows × 11 columns</p>\n",
       "</div>"
      ],
      "text/plain": [
       "                        code                  product_name quantity  \\\n",
       "0       00000000000026772226                          Skyr    480 g   \n",
       "1              0000000000017              Vitória crackers      NaN   \n",
       "2              0000000000031                         Cacao    130 g   \n",
       "3              0000000000100   moutarde au moût de raisin      100g   \n",
       "4              0000000000123         Sauce Sweety chili 0%      NaN   \n",
       "...                      ...                           ...      ...   \n",
       "932861         9999991953895              Crème de Marrons      NaN   \n",
       "932862         9999992756068                   Steak haché    500 g   \n",
       "932863         9999992756112                   Steak haché     1 kg   \n",
       "932864             999999999       Thé noir BIO Darjeeling      NaN   \n",
       "932865         9999999999994     Light & Free SKYR A BOIRE      NaN   \n",
       "\n",
       "          brands_tags countries_tags serving_size  \\\n",
       "0              danone      en:france          NaN   \n",
       "1                 NaN      en:france          NaN   \n",
       "2                 NaN      en:france          NaN   \n",
       "3       courte-paille      en:france          NaN   \n",
       "4                 NaN      en:france          NaN   \n",
       "...               ...            ...          ...   \n",
       "932861            NaN      en:france          NaN   \n",
       "932862            NaN      en:france          NaN   \n",
       "932863            NaN      en:france          NaN   \n",
       "932864          pages      en:france          NaN   \n",
       "932865            NaN      en:france          NaN   \n",
       "\n",
       "                                                image_url ecoscore_grade  \\\n",
       "0       https://images.openfoodfacts.org/images/produc...              d   \n",
       "1       https://images.openfoodfacts.org/images/produc...        unknown   \n",
       "2       https://images.openfoodfacts.org/images/produc...        unknown   \n",
       "3       https://images.openfoodfacts.org/images/produc...              c   \n",
       "4       https://images.openfoodfacts.org/images/produc...        unknown   \n",
       "...                                                   ...            ...   \n",
       "932861  https://images.openfoodfacts.org/images/produc...        unknown   \n",
       "932862  https://images.openfoodfacts.org/images/produc...              e   \n",
       "932863  https://images.openfoodfacts.org/images/produc...        unknown   \n",
       "932864                                                NaN        unknown   \n",
       "932865  https://images.openfoodfacts.org/images/produc...        unknown   \n",
       "\n",
       "        est_plastique  est_palm  est_cocoa  \n",
       "0               False     False      False  \n",
       "1               False     False      False  \n",
       "2               False     False      False  \n",
       "3               False     False      False  \n",
       "4               False     False      False  \n",
       "...               ...       ...        ...  \n",
       "932861          False     False      False  \n",
       "932862          False     False      False  \n",
       "932863          False     False      False  \n",
       "932864          False     False      False  \n",
       "932865          False     False      False  \n",
       "\n",
       "[932866 rows x 11 columns]"
      ]
     },
     "execution_count": 123,
     "metadata": {},
     "output_type": "execute_result"
    }
   ],
   "source": [
    "impact = pd.read_csv(\"Impact environnemental_final.csv\", sep = '\\t', low_memory=False)\n",
    "impact"
   ]
  },
  {
   "cell_type": "code",
   "execution_count": 124,
   "id": "057cccff-99e8-4e83-bf52-65c2976e3fe3",
   "metadata": {},
   "outputs": [
    {
     "data": {
      "text/html": [
       "<div>\n",
       "<style scoped>\n",
       "    .dataframe tbody tr th:only-of-type {\n",
       "        vertical-align: middle;\n",
       "    }\n",
       "\n",
       "    .dataframe tbody tr th {\n",
       "        vertical-align: top;\n",
       "    }\n",
       "\n",
       "    .dataframe thead th {\n",
       "        text-align: right;\n",
       "    }\n",
       "</style>\n",
       "<table border=\"1\" class=\"dataframe\">\n",
       "  <thead>\n",
       "    <tr style=\"text-align: right;\">\n",
       "      <th></th>\n",
       "      <th>code</th>\n",
       "      <th>product_name</th>\n",
       "      <th>quantity</th>\n",
       "      <th>brands_tags</th>\n",
       "      <th>countries_tags</th>\n",
       "      <th>serving_size</th>\n",
       "      <th>image_url</th>\n",
       "      <th>ingredients_tags</th>\n",
       "      <th>nutriscore_grade</th>\n",
       "      <th>energy-kcal_100g</th>\n",
       "      <th>fat_100g</th>\n",
       "      <th>saturated-fat_100g</th>\n",
       "      <th>sugars_100g</th>\n",
       "      <th>proteins_100g</th>\n",
       "      <th>salt_100g</th>\n",
       "      <th>nb_nocif</th>\n",
       "    </tr>\n",
       "  </thead>\n",
       "  <tbody>\n",
       "    <tr>\n",
       "      <th>0</th>\n",
       "      <td>00000000000026772226</td>\n",
       "      <td>Skyr</td>\n",
       "      <td>480 g</td>\n",
       "      <td>danone</td>\n",
       "      <td>en:france</td>\n",
       "      <td>NaN</td>\n",
       "      <td>https://images.openfoodfacts.org/images/produc...</td>\n",
       "      <td>NaN</td>\n",
       "      <td>a</td>\n",
       "      <td>57.0</td>\n",
       "      <td>0.2</td>\n",
       "      <td>0.10</td>\n",
       "      <td>3.9</td>\n",
       "      <td>10.0</td>\n",
       "      <td>0.09</td>\n",
       "      <td>0.0</td>\n",
       "    </tr>\n",
       "    <tr>\n",
       "      <th>1</th>\n",
       "      <td>0000000000017</td>\n",
       "      <td>Vitória crackers</td>\n",
       "      <td>NaN</td>\n",
       "      <td>NaN</td>\n",
       "      <td>en:france</td>\n",
       "      <td>NaN</td>\n",
       "      <td>https://images.openfoodfacts.org/images/produc...</td>\n",
       "      <td>NaN</td>\n",
       "      <td>NaN</td>\n",
       "      <td>375.0</td>\n",
       "      <td>7.0</td>\n",
       "      <td>3.08</td>\n",
       "      <td>15.0</td>\n",
       "      <td>7.8</td>\n",
       "      <td>1.40</td>\n",
       "      <td>0.0</td>\n",
       "    </tr>\n",
       "    <tr>\n",
       "      <th>2</th>\n",
       "      <td>0000000000031</td>\n",
       "      <td>Cacao</td>\n",
       "      <td>130 g</td>\n",
       "      <td>NaN</td>\n",
       "      <td>en:france</td>\n",
       "      <td>NaN</td>\n",
       "      <td>https://images.openfoodfacts.org/images/produc...</td>\n",
       "      <td>NaN</td>\n",
       "      <td>NaN</td>\n",
       "      <td>NaN</td>\n",
       "      <td>NaN</td>\n",
       "      <td>NaN</td>\n",
       "      <td>NaN</td>\n",
       "      <td>NaN</td>\n",
       "      <td>NaN</td>\n",
       "      <td>0.0</td>\n",
       "    </tr>\n",
       "    <tr>\n",
       "      <th>3</th>\n",
       "      <td>0000000000100</td>\n",
       "      <td>moutarde au moût de raisin</td>\n",
       "      <td>100g</td>\n",
       "      <td>courte-paille</td>\n",
       "      <td>en:france</td>\n",
       "      <td>NaN</td>\n",
       "      <td>https://images.openfoodfacts.org/images/produc...</td>\n",
       "      <td>fr:eau-graines-de-teguments-de-moutarde-vinaig...</td>\n",
       "      <td>d</td>\n",
       "      <td>NaN</td>\n",
       "      <td>8.2</td>\n",
       "      <td>2.20</td>\n",
       "      <td>22.0</td>\n",
       "      <td>5.1</td>\n",
       "      <td>4.60</td>\n",
       "      <td>0.0</td>\n",
       "    </tr>\n",
       "    <tr>\n",
       "      <th>4</th>\n",
       "      <td>0000000000123</td>\n",
       "      <td>Sauce Sweety chili 0%</td>\n",
       "      <td>NaN</td>\n",
       "      <td>NaN</td>\n",
       "      <td>en:france</td>\n",
       "      <td>NaN</td>\n",
       "      <td>https://images.openfoodfacts.org/images/produc...</td>\n",
       "      <td>NaN</td>\n",
       "      <td>NaN</td>\n",
       "      <td>21.0</td>\n",
       "      <td>0.0</td>\n",
       "      <td>0.00</td>\n",
       "      <td>0.4</td>\n",
       "      <td>0.2</td>\n",
       "      <td>2.04</td>\n",
       "      <td>0.0</td>\n",
       "    </tr>\n",
       "    <tr>\n",
       "      <th>...</th>\n",
       "      <td>...</td>\n",
       "      <td>...</td>\n",
       "      <td>...</td>\n",
       "      <td>...</td>\n",
       "      <td>...</td>\n",
       "      <td>...</td>\n",
       "      <td>...</td>\n",
       "      <td>...</td>\n",
       "      <td>...</td>\n",
       "      <td>...</td>\n",
       "      <td>...</td>\n",
       "      <td>...</td>\n",
       "      <td>...</td>\n",
       "      <td>...</td>\n",
       "      <td>...</td>\n",
       "      <td>...</td>\n",
       "    </tr>\n",
       "    <tr>\n",
       "      <th>932861</th>\n",
       "      <td>9999991953895</td>\n",
       "      <td>Crème de Marrons</td>\n",
       "      <td>NaN</td>\n",
       "      <td>NaN</td>\n",
       "      <td>en:france</td>\n",
       "      <td>NaN</td>\n",
       "      <td>https://images.openfoodfacts.org/images/produc...</td>\n",
       "      <td>NaN</td>\n",
       "      <td>NaN</td>\n",
       "      <td>NaN</td>\n",
       "      <td>NaN</td>\n",
       "      <td>NaN</td>\n",
       "      <td>NaN</td>\n",
       "      <td>NaN</td>\n",
       "      <td>NaN</td>\n",
       "      <td>0.0</td>\n",
       "    </tr>\n",
       "    <tr>\n",
       "      <th>932862</th>\n",
       "      <td>9999992756068</td>\n",
       "      <td>Steak haché</td>\n",
       "      <td>500 g</td>\n",
       "      <td>NaN</td>\n",
       "      <td>en:france</td>\n",
       "      <td>NaN</td>\n",
       "      <td>https://images.openfoodfacts.org/images/produc...</td>\n",
       "      <td>NaN</td>\n",
       "      <td>NaN</td>\n",
       "      <td>NaN</td>\n",
       "      <td>NaN</td>\n",
       "      <td>NaN</td>\n",
       "      <td>NaN</td>\n",
       "      <td>NaN</td>\n",
       "      <td>NaN</td>\n",
       "      <td>0.0</td>\n",
       "    </tr>\n",
       "    <tr>\n",
       "      <th>932863</th>\n",
       "      <td>9999992756112</td>\n",
       "      <td>Steak haché</td>\n",
       "      <td>1 kg</td>\n",
       "      <td>NaN</td>\n",
       "      <td>en:france</td>\n",
       "      <td>NaN</td>\n",
       "      <td>https://images.openfoodfacts.org/images/produc...</td>\n",
       "      <td>NaN</td>\n",
       "      <td>NaN</td>\n",
       "      <td>196.0</td>\n",
       "      <td>14.0</td>\n",
       "      <td>6.20</td>\n",
       "      <td>0.0</td>\n",
       "      <td>19.0</td>\n",
       "      <td>0.19</td>\n",
       "      <td>0.0</td>\n",
       "    </tr>\n",
       "    <tr>\n",
       "      <th>932864</th>\n",
       "      <td>999999999</td>\n",
       "      <td>Thé noir BIO Darjeeling</td>\n",
       "      <td>NaN</td>\n",
       "      <td>pages</td>\n",
       "      <td>en:france</td>\n",
       "      <td>NaN</td>\n",
       "      <td>NaN</td>\n",
       "      <td>NaN</td>\n",
       "      <td>NaN</td>\n",
       "      <td>NaN</td>\n",
       "      <td>NaN</td>\n",
       "      <td>NaN</td>\n",
       "      <td>NaN</td>\n",
       "      <td>NaN</td>\n",
       "      <td>NaN</td>\n",
       "      <td>0.0</td>\n",
       "    </tr>\n",
       "    <tr>\n",
       "      <th>932865</th>\n",
       "      <td>9999999999994</td>\n",
       "      <td>Light &amp; Free SKYR A BOIRE</td>\n",
       "      <td>NaN</td>\n",
       "      <td>NaN</td>\n",
       "      <td>en:france</td>\n",
       "      <td>NaN</td>\n",
       "      <td>https://images.openfoodfacts.org/images/produc...</td>\n",
       "      <td>NaN</td>\n",
       "      <td>e</td>\n",
       "      <td>24.0</td>\n",
       "      <td>28.0</td>\n",
       "      <td>13.00</td>\n",
       "      <td>49.0</td>\n",
       "      <td>2.0</td>\n",
       "      <td>3.00</td>\n",
       "      <td>0.0</td>\n",
       "    </tr>\n",
       "  </tbody>\n",
       "</table>\n",
       "<p>932866 rows × 16 columns</p>\n",
       "</div>"
      ],
      "text/plain": [
       "                        code                  product_name quantity  \\\n",
       "0       00000000000026772226                          Skyr    480 g   \n",
       "1              0000000000017              Vitória crackers      NaN   \n",
       "2              0000000000031                         Cacao    130 g   \n",
       "3              0000000000100   moutarde au moût de raisin      100g   \n",
       "4              0000000000123         Sauce Sweety chili 0%      NaN   \n",
       "...                      ...                           ...      ...   \n",
       "932861         9999991953895              Crème de Marrons      NaN   \n",
       "932862         9999992756068                   Steak haché    500 g   \n",
       "932863         9999992756112                   Steak haché     1 kg   \n",
       "932864             999999999       Thé noir BIO Darjeeling      NaN   \n",
       "932865         9999999999994     Light & Free SKYR A BOIRE      NaN   \n",
       "\n",
       "          brands_tags countries_tags serving_size  \\\n",
       "0              danone      en:france          NaN   \n",
       "1                 NaN      en:france          NaN   \n",
       "2                 NaN      en:france          NaN   \n",
       "3       courte-paille      en:france          NaN   \n",
       "4                 NaN      en:france          NaN   \n",
       "...               ...            ...          ...   \n",
       "932861            NaN      en:france          NaN   \n",
       "932862            NaN      en:france          NaN   \n",
       "932863            NaN      en:france          NaN   \n",
       "932864          pages      en:france          NaN   \n",
       "932865            NaN      en:france          NaN   \n",
       "\n",
       "                                                image_url  \\\n",
       "0       https://images.openfoodfacts.org/images/produc...   \n",
       "1       https://images.openfoodfacts.org/images/produc...   \n",
       "2       https://images.openfoodfacts.org/images/produc...   \n",
       "3       https://images.openfoodfacts.org/images/produc...   \n",
       "4       https://images.openfoodfacts.org/images/produc...   \n",
       "...                                                   ...   \n",
       "932861  https://images.openfoodfacts.org/images/produc...   \n",
       "932862  https://images.openfoodfacts.org/images/produc...   \n",
       "932863  https://images.openfoodfacts.org/images/produc...   \n",
       "932864                                                NaN   \n",
       "932865  https://images.openfoodfacts.org/images/produc...   \n",
       "\n",
       "                                         ingredients_tags nutriscore_grade  \\\n",
       "0                                                     NaN                a   \n",
       "1                                                     NaN              NaN   \n",
       "2                                                     NaN              NaN   \n",
       "3       fr:eau-graines-de-teguments-de-moutarde-vinaig...                d   \n",
       "4                                                     NaN              NaN   \n",
       "...                                                   ...              ...   \n",
       "932861                                                NaN              NaN   \n",
       "932862                                                NaN              NaN   \n",
       "932863                                                NaN              NaN   \n",
       "932864                                                NaN              NaN   \n",
       "932865                                                NaN                e   \n",
       "\n",
       "        energy-kcal_100g  fat_100g  saturated-fat_100g  sugars_100g  \\\n",
       "0                   57.0       0.2                0.10          3.9   \n",
       "1                  375.0       7.0                3.08         15.0   \n",
       "2                    NaN       NaN                 NaN          NaN   \n",
       "3                    NaN       8.2                2.20         22.0   \n",
       "4                   21.0       0.0                0.00          0.4   \n",
       "...                  ...       ...                 ...          ...   \n",
       "932861               NaN       NaN                 NaN          NaN   \n",
       "932862               NaN       NaN                 NaN          NaN   \n",
       "932863             196.0      14.0                6.20          0.0   \n",
       "932864               NaN       NaN                 NaN          NaN   \n",
       "932865              24.0      28.0               13.00         49.0   \n",
       "\n",
       "        proteins_100g  salt_100g  nb_nocif  \n",
       "0                10.0       0.09       0.0  \n",
       "1                 7.8       1.40       0.0  \n",
       "2                 NaN        NaN       0.0  \n",
       "3                 5.1       4.60       0.0  \n",
       "4                 0.2       2.04       0.0  \n",
       "...               ...        ...       ...  \n",
       "932861            NaN        NaN       0.0  \n",
       "932862            NaN        NaN       0.0  \n",
       "932863           19.0       0.19       0.0  \n",
       "932864            NaN        NaN       0.0  \n",
       "932865            2.0       3.00       0.0  \n",
       "\n",
       "[932866 rows x 16 columns]"
      ]
     },
     "execution_count": 124,
     "metadata": {},
     "output_type": "execute_result"
    }
   ],
   "source": [
    "qual = pd.read_csv(\"Qualite nutritionnelle_final.csv\", sep = '\\t', low_memory = False)\n",
    "qual"
   ]
  },
  {
   "cell_type": "code",
   "execution_count": 125,
   "id": "23d80768-6035-440a-a7e9-66f973584a9e",
   "metadata": {},
   "outputs": [
    {
     "data": {
      "text/html": [
       "<div>\n",
       "<style scoped>\n",
       "    .dataframe tbody tr th:only-of-type {\n",
       "        vertical-align: middle;\n",
       "    }\n",
       "\n",
       "    .dataframe tbody tr th {\n",
       "        vertical-align: top;\n",
       "    }\n",
       "\n",
       "    .dataframe thead th {\n",
       "        text-align: right;\n",
       "    }\n",
       "</style>\n",
       "<table border=\"1\" class=\"dataframe\">\n",
       "  <thead>\n",
       "    <tr style=\"text-align: right;\">\n",
       "      <th></th>\n",
       "      <th>code</th>\n",
       "      <th>product_name</th>\n",
       "      <th>quantity</th>\n",
       "      <th>brands_tags</th>\n",
       "      <th>countries_tags</th>\n",
       "      <th>serving_size</th>\n",
       "      <th>image_url</th>\n",
       "      <th>ingredients_tags</th>\n",
       "      <th>nutriscore_grade</th>\n",
       "      <th>energy-kcal_100g</th>\n",
       "      <th>fat_100g</th>\n",
       "      <th>saturated-fat_100g</th>\n",
       "      <th>sugars_100g</th>\n",
       "      <th>proteins_100g</th>\n",
       "      <th>salt_100g</th>\n",
       "      <th>nb_nocif</th>\n",
       "      <th>ecoscore_grade</th>\n",
       "      <th>est_plastique</th>\n",
       "      <th>est_palm</th>\n",
       "      <th>est_cocoa</th>\n",
       "    </tr>\n",
       "  </thead>\n",
       "  <tbody>\n",
       "    <tr>\n",
       "      <th>0</th>\n",
       "      <td>00000000000026772226</td>\n",
       "      <td>Skyr</td>\n",
       "      <td>480 g</td>\n",
       "      <td>danone</td>\n",
       "      <td>en:france</td>\n",
       "      <td>NaN</td>\n",
       "      <td>https://images.openfoodfacts.org/images/produc...</td>\n",
       "      <td>NaN</td>\n",
       "      <td>a</td>\n",
       "      <td>57.0</td>\n",
       "      <td>0.2</td>\n",
       "      <td>0.10</td>\n",
       "      <td>3.9</td>\n",
       "      <td>10.0</td>\n",
       "      <td>0.09</td>\n",
       "      <td>0.0</td>\n",
       "      <td>d</td>\n",
       "      <td>False</td>\n",
       "      <td>False</td>\n",
       "      <td>False</td>\n",
       "    </tr>\n",
       "    <tr>\n",
       "      <th>1</th>\n",
       "      <td>0000000000017</td>\n",
       "      <td>Vitória crackers</td>\n",
       "      <td>NaN</td>\n",
       "      <td>NaN</td>\n",
       "      <td>en:france</td>\n",
       "      <td>NaN</td>\n",
       "      <td>https://images.openfoodfacts.org/images/produc...</td>\n",
       "      <td>NaN</td>\n",
       "      <td>NaN</td>\n",
       "      <td>375.0</td>\n",
       "      <td>7.0</td>\n",
       "      <td>3.08</td>\n",
       "      <td>15.0</td>\n",
       "      <td>7.8</td>\n",
       "      <td>1.40</td>\n",
       "      <td>0.0</td>\n",
       "      <td>unknown</td>\n",
       "      <td>False</td>\n",
       "      <td>False</td>\n",
       "      <td>False</td>\n",
       "    </tr>\n",
       "    <tr>\n",
       "      <th>2</th>\n",
       "      <td>0000000000031</td>\n",
       "      <td>Cacao</td>\n",
       "      <td>130 g</td>\n",
       "      <td>NaN</td>\n",
       "      <td>en:france</td>\n",
       "      <td>NaN</td>\n",
       "      <td>https://images.openfoodfacts.org/images/produc...</td>\n",
       "      <td>NaN</td>\n",
       "      <td>NaN</td>\n",
       "      <td>NaN</td>\n",
       "      <td>NaN</td>\n",
       "      <td>NaN</td>\n",
       "      <td>NaN</td>\n",
       "      <td>NaN</td>\n",
       "      <td>NaN</td>\n",
       "      <td>0.0</td>\n",
       "      <td>unknown</td>\n",
       "      <td>False</td>\n",
       "      <td>False</td>\n",
       "      <td>False</td>\n",
       "    </tr>\n",
       "    <tr>\n",
       "      <th>3</th>\n",
       "      <td>0000000000100</td>\n",
       "      <td>moutarde au moût de raisin</td>\n",
       "      <td>100g</td>\n",
       "      <td>courte-paille</td>\n",
       "      <td>en:france</td>\n",
       "      <td>NaN</td>\n",
       "      <td>https://images.openfoodfacts.org/images/produc...</td>\n",
       "      <td>fr:eau-graines-de-teguments-de-moutarde-vinaig...</td>\n",
       "      <td>d</td>\n",
       "      <td>NaN</td>\n",
       "      <td>8.2</td>\n",
       "      <td>2.20</td>\n",
       "      <td>22.0</td>\n",
       "      <td>5.1</td>\n",
       "      <td>4.60</td>\n",
       "      <td>0.0</td>\n",
       "      <td>c</td>\n",
       "      <td>False</td>\n",
       "      <td>False</td>\n",
       "      <td>False</td>\n",
       "    </tr>\n",
       "    <tr>\n",
       "      <th>4</th>\n",
       "      <td>0000000000123</td>\n",
       "      <td>Sauce Sweety chili 0%</td>\n",
       "      <td>NaN</td>\n",
       "      <td>NaN</td>\n",
       "      <td>en:france</td>\n",
       "      <td>NaN</td>\n",
       "      <td>https://images.openfoodfacts.org/images/produc...</td>\n",
       "      <td>NaN</td>\n",
       "      <td>NaN</td>\n",
       "      <td>21.0</td>\n",
       "      <td>0.0</td>\n",
       "      <td>0.00</td>\n",
       "      <td>0.4</td>\n",
       "      <td>0.2</td>\n",
       "      <td>2.04</td>\n",
       "      <td>0.0</td>\n",
       "      <td>unknown</td>\n",
       "      <td>False</td>\n",
       "      <td>False</td>\n",
       "      <td>False</td>\n",
       "    </tr>\n",
       "    <tr>\n",
       "      <th>...</th>\n",
       "      <td>...</td>\n",
       "      <td>...</td>\n",
       "      <td>...</td>\n",
       "      <td>...</td>\n",
       "      <td>...</td>\n",
       "      <td>...</td>\n",
       "      <td>...</td>\n",
       "      <td>...</td>\n",
       "      <td>...</td>\n",
       "      <td>...</td>\n",
       "      <td>...</td>\n",
       "      <td>...</td>\n",
       "      <td>...</td>\n",
       "      <td>...</td>\n",
       "      <td>...</td>\n",
       "      <td>...</td>\n",
       "      <td>...</td>\n",
       "      <td>...</td>\n",
       "      <td>...</td>\n",
       "      <td>...</td>\n",
       "    </tr>\n",
       "    <tr>\n",
       "      <th>1116115</th>\n",
       "      <td>9999991087217</td>\n",
       "      <td>Pastilles à l'eau de lourdes</td>\n",
       "      <td>NaN</td>\n",
       "      <td>NaN</td>\n",
       "      <td>en:france</td>\n",
       "      <td>NaN</td>\n",
       "      <td>https://images.openfoodfacts.org/images/produc...</td>\n",
       "      <td>NaN</td>\n",
       "      <td>NaN</td>\n",
       "      <td>397.0</td>\n",
       "      <td>0.0</td>\n",
       "      <td>0.00</td>\n",
       "      <td>99.0</td>\n",
       "      <td>0.2</td>\n",
       "      <td>NaN</td>\n",
       "      <td>0.0</td>\n",
       "      <td>unknown</td>\n",
       "      <td>False</td>\n",
       "      <td>False</td>\n",
       "      <td>False</td>\n",
       "    </tr>\n",
       "    <tr>\n",
       "      <th>1116116</th>\n",
       "      <td>9999991950191</td>\n",
       "      <td>Pain d’epices</td>\n",
       "      <td>NaN</td>\n",
       "      <td>NaN</td>\n",
       "      <td>en:france</td>\n",
       "      <td>NaN</td>\n",
       "      <td>https://images.openfoodfacts.org/images/produc...</td>\n",
       "      <td>NaN</td>\n",
       "      <td>NaN</td>\n",
       "      <td>NaN</td>\n",
       "      <td>NaN</td>\n",
       "      <td>NaN</td>\n",
       "      <td>NaN</td>\n",
       "      <td>NaN</td>\n",
       "      <td>NaN</td>\n",
       "      <td>0.0</td>\n",
       "      <td>b</td>\n",
       "      <td>False</td>\n",
       "      <td>False</td>\n",
       "      <td>False</td>\n",
       "    </tr>\n",
       "    <tr>\n",
       "      <th>1116117</th>\n",
       "      <td>9999991953895</td>\n",
       "      <td>Crème de Marrons</td>\n",
       "      <td>NaN</td>\n",
       "      <td>NaN</td>\n",
       "      <td>en:france</td>\n",
       "      <td>NaN</td>\n",
       "      <td>https://images.openfoodfacts.org/images/produc...</td>\n",
       "      <td>NaN</td>\n",
       "      <td>NaN</td>\n",
       "      <td>NaN</td>\n",
       "      <td>NaN</td>\n",
       "      <td>NaN</td>\n",
       "      <td>NaN</td>\n",
       "      <td>NaN</td>\n",
       "      <td>NaN</td>\n",
       "      <td>0.0</td>\n",
       "      <td>unknown</td>\n",
       "      <td>False</td>\n",
       "      <td>False</td>\n",
       "      <td>False</td>\n",
       "    </tr>\n",
       "    <tr>\n",
       "      <th>1116118</th>\n",
       "      <td>9999992756068</td>\n",
       "      <td>Steak haché</td>\n",
       "      <td>500 g</td>\n",
       "      <td>NaN</td>\n",
       "      <td>en:france</td>\n",
       "      <td>NaN</td>\n",
       "      <td>https://images.openfoodfacts.org/images/produc...</td>\n",
       "      <td>NaN</td>\n",
       "      <td>NaN</td>\n",
       "      <td>NaN</td>\n",
       "      <td>NaN</td>\n",
       "      <td>NaN</td>\n",
       "      <td>NaN</td>\n",
       "      <td>NaN</td>\n",
       "      <td>NaN</td>\n",
       "      <td>0.0</td>\n",
       "      <td>e</td>\n",
       "      <td>False</td>\n",
       "      <td>False</td>\n",
       "      <td>False</td>\n",
       "    </tr>\n",
       "    <tr>\n",
       "      <th>1116119</th>\n",
       "      <td>9999992756112</td>\n",
       "      <td>Steak haché</td>\n",
       "      <td>1 kg</td>\n",
       "      <td>NaN</td>\n",
       "      <td>en:france</td>\n",
       "      <td>NaN</td>\n",
       "      <td>https://images.openfoodfacts.org/images/produc...</td>\n",
       "      <td>NaN</td>\n",
       "      <td>NaN</td>\n",
       "      <td>196.0</td>\n",
       "      <td>14.0</td>\n",
       "      <td>6.20</td>\n",
       "      <td>0.0</td>\n",
       "      <td>19.0</td>\n",
       "      <td>0.19</td>\n",
       "      <td>0.0</td>\n",
       "      <td>unknown</td>\n",
       "      <td>False</td>\n",
       "      <td>False</td>\n",
       "      <td>False</td>\n",
       "    </tr>\n",
       "  </tbody>\n",
       "</table>\n",
       "<p>1116120 rows × 20 columns</p>\n",
       "</div>"
      ],
      "text/plain": [
       "                         code                  product_name quantity  \\\n",
       "0        00000000000026772226                          Skyr    480 g   \n",
       "1               0000000000017              Vitória crackers      NaN   \n",
       "2               0000000000031                         Cacao    130 g   \n",
       "3               0000000000100   moutarde au moût de raisin      100g   \n",
       "4               0000000000123         Sauce Sweety chili 0%      NaN   \n",
       "...                       ...                           ...      ...   \n",
       "1116115         9999991087217  Pastilles à l'eau de lourdes      NaN   \n",
       "1116116         9999991950191                 Pain d’epices      NaN   \n",
       "1116117         9999991953895              Crème de Marrons      NaN   \n",
       "1116118         9999992756068                   Steak haché    500 g   \n",
       "1116119         9999992756112                   Steak haché     1 kg   \n",
       "\n",
       "           brands_tags countries_tags serving_size  \\\n",
       "0               danone      en:france          NaN   \n",
       "1                  NaN      en:france          NaN   \n",
       "2                  NaN      en:france          NaN   \n",
       "3        courte-paille      en:france          NaN   \n",
       "4                  NaN      en:france          NaN   \n",
       "...                ...            ...          ...   \n",
       "1116115            NaN      en:france          NaN   \n",
       "1116116            NaN      en:france          NaN   \n",
       "1116117            NaN      en:france          NaN   \n",
       "1116118            NaN      en:france          NaN   \n",
       "1116119            NaN      en:france          NaN   \n",
       "\n",
       "                                                 image_url  \\\n",
       "0        https://images.openfoodfacts.org/images/produc...   \n",
       "1        https://images.openfoodfacts.org/images/produc...   \n",
       "2        https://images.openfoodfacts.org/images/produc...   \n",
       "3        https://images.openfoodfacts.org/images/produc...   \n",
       "4        https://images.openfoodfacts.org/images/produc...   \n",
       "...                                                    ...   \n",
       "1116115  https://images.openfoodfacts.org/images/produc...   \n",
       "1116116  https://images.openfoodfacts.org/images/produc...   \n",
       "1116117  https://images.openfoodfacts.org/images/produc...   \n",
       "1116118  https://images.openfoodfacts.org/images/produc...   \n",
       "1116119  https://images.openfoodfacts.org/images/produc...   \n",
       "\n",
       "                                          ingredients_tags nutriscore_grade  \\\n",
       "0                                                      NaN                a   \n",
       "1                                                      NaN              NaN   \n",
       "2                                                      NaN              NaN   \n",
       "3        fr:eau-graines-de-teguments-de-moutarde-vinaig...                d   \n",
       "4                                                      NaN              NaN   \n",
       "...                                                    ...              ...   \n",
       "1116115                                                NaN              NaN   \n",
       "1116116                                                NaN              NaN   \n",
       "1116117                                                NaN              NaN   \n",
       "1116118                                                NaN              NaN   \n",
       "1116119                                                NaN              NaN   \n",
       "\n",
       "         energy-kcal_100g  fat_100g  saturated-fat_100g  sugars_100g  \\\n",
       "0                    57.0       0.2                0.10          3.9   \n",
       "1                   375.0       7.0                3.08         15.0   \n",
       "2                     NaN       NaN                 NaN          NaN   \n",
       "3                     NaN       8.2                2.20         22.0   \n",
       "4                    21.0       0.0                0.00          0.4   \n",
       "...                   ...       ...                 ...          ...   \n",
       "1116115             397.0       0.0                0.00         99.0   \n",
       "1116116               NaN       NaN                 NaN          NaN   \n",
       "1116117               NaN       NaN                 NaN          NaN   \n",
       "1116118               NaN       NaN                 NaN          NaN   \n",
       "1116119             196.0      14.0                6.20          0.0   \n",
       "\n",
       "         proteins_100g  salt_100g  nb_nocif ecoscore_grade  est_plastique  \\\n",
       "0                 10.0       0.09       0.0              d          False   \n",
       "1                  7.8       1.40       0.0        unknown          False   \n",
       "2                  NaN        NaN       0.0        unknown          False   \n",
       "3                  5.1       4.60       0.0              c          False   \n",
       "4                  0.2       2.04       0.0        unknown          False   \n",
       "...                ...        ...       ...            ...            ...   \n",
       "1116115            0.2        NaN       0.0        unknown          False   \n",
       "1116116            NaN        NaN       0.0              b          False   \n",
       "1116117            NaN        NaN       0.0        unknown          False   \n",
       "1116118            NaN        NaN       0.0              e          False   \n",
       "1116119           19.0       0.19       0.0        unknown          False   \n",
       "\n",
       "         est_palm  est_cocoa  \n",
       "0           False      False  \n",
       "1           False      False  \n",
       "2           False      False  \n",
       "3           False      False  \n",
       "4           False      False  \n",
       "...           ...        ...  \n",
       "1116115     False      False  \n",
       "1116116     False      False  \n",
       "1116117     False      False  \n",
       "1116118     False      False  \n",
       "1116119     False      False  \n",
       "\n",
       "[1116120 rows x 20 columns]"
      ]
     },
     "execution_count": 125,
     "metadata": {},
     "output_type": "execute_result"
    }
   ],
   "source": [
    "double = pd.merge(qual,impact, how = 'outer')\n",
    "double"
   ]
  },
  {
   "cell_type": "code",
   "execution_count": 131,
   "id": "c6017dbe-707d-4b24-bea8-bf08cf40907c",
   "metadata": {},
   "outputs": [
    {
     "data": {
      "text/html": [
       "<div>\n",
       "<style scoped>\n",
       "    .dataframe tbody tr th:only-of-type {\n",
       "        vertical-align: middle;\n",
       "    }\n",
       "\n",
       "    .dataframe tbody tr th {\n",
       "        vertical-align: top;\n",
       "    }\n",
       "\n",
       "    .dataframe thead th {\n",
       "        text-align: right;\n",
       "    }\n",
       "</style>\n",
       "<table border=\"1\" class=\"dataframe\">\n",
       "  <thead>\n",
       "    <tr style=\"text-align: right;\">\n",
       "      <th></th>\n",
       "      <th>code</th>\n",
       "      <th>product_name</th>\n",
       "      <th>quantity</th>\n",
       "      <th>brands_tags</th>\n",
       "      <th>countries_tags</th>\n",
       "      <th>serving_size</th>\n",
       "      <th>image_url</th>\n",
       "      <th>ingredients_tags</th>\n",
       "      <th>nutriscore_grade</th>\n",
       "      <th>energy-kcal_100g</th>\n",
       "      <th>...</th>\n",
       "      <th>saturated-fat_100g</th>\n",
       "      <th>sugars_100g</th>\n",
       "      <th>proteins_100g</th>\n",
       "      <th>salt_100g</th>\n",
       "      <th>nb_nocif</th>\n",
       "      <th>ecoscore_grade</th>\n",
       "      <th>est_plastique</th>\n",
       "      <th>est_palm</th>\n",
       "      <th>est_cocoa</th>\n",
       "      <th>est_bio</th>\n",
       "    </tr>\n",
       "  </thead>\n",
       "  <tbody>\n",
       "    <tr>\n",
       "      <th>0</th>\n",
       "      <td>00000000000026772226</td>\n",
       "      <td>Skyr</td>\n",
       "      <td>480 g</td>\n",
       "      <td>danone</td>\n",
       "      <td>en:france</td>\n",
       "      <td>NaN</td>\n",
       "      <td>https://images.openfoodfacts.org/images/produc...</td>\n",
       "      <td>NaN</td>\n",
       "      <td>a</td>\n",
       "      <td>57.0</td>\n",
       "      <td>...</td>\n",
       "      <td>0.1</td>\n",
       "      <td>3.9</td>\n",
       "      <td>10.0</td>\n",
       "      <td>0.09</td>\n",
       "      <td>0.0</td>\n",
       "      <td>d</td>\n",
       "      <td>False</td>\n",
       "      <td>False</td>\n",
       "      <td>False</td>\n",
       "      <td>False</td>\n",
       "    </tr>\n",
       "    <tr>\n",
       "      <th>1</th>\n",
       "      <td>00000000000026772226</td>\n",
       "      <td>Skyr</td>\n",
       "      <td>480 g</td>\n",
       "      <td>danone</td>\n",
       "      <td>en:france</td>\n",
       "      <td>NaN</td>\n",
       "      <td>https://images.openfoodfacts.org/images/produc...</td>\n",
       "      <td>NaN</td>\n",
       "      <td>a</td>\n",
       "      <td>57.0</td>\n",
       "      <td>...</td>\n",
       "      <td>0.1</td>\n",
       "      <td>3.9</td>\n",
       "      <td>10.0</td>\n",
       "      <td>0.09</td>\n",
       "      <td>0.0</td>\n",
       "      <td>d</td>\n",
       "      <td>False</td>\n",
       "      <td>False</td>\n",
       "      <td>False</td>\n",
       "      <td>False</td>\n",
       "    </tr>\n",
       "    <tr>\n",
       "      <th>2</th>\n",
       "      <td>00000000000026772226</td>\n",
       "      <td>Skyr</td>\n",
       "      <td>480 g</td>\n",
       "      <td>danone</td>\n",
       "      <td>en:france</td>\n",
       "      <td>NaN</td>\n",
       "      <td>https://images.openfoodfacts.org/images/produc...</td>\n",
       "      <td>NaN</td>\n",
       "      <td>a</td>\n",
       "      <td>57.0</td>\n",
       "      <td>...</td>\n",
       "      <td>0.1</td>\n",
       "      <td>3.9</td>\n",
       "      <td>10.0</td>\n",
       "      <td>0.09</td>\n",
       "      <td>0.0</td>\n",
       "      <td>d</td>\n",
       "      <td>False</td>\n",
       "      <td>False</td>\n",
       "      <td>False</td>\n",
       "      <td>False</td>\n",
       "    </tr>\n",
       "    <tr>\n",
       "      <th>3</th>\n",
       "      <td>00000000000026772226</td>\n",
       "      <td>Skyr</td>\n",
       "      <td>480 g</td>\n",
       "      <td>danone</td>\n",
       "      <td>en:france</td>\n",
       "      <td>NaN</td>\n",
       "      <td>https://images.openfoodfacts.org/images/produc...</td>\n",
       "      <td>NaN</td>\n",
       "      <td>a</td>\n",
       "      <td>57.0</td>\n",
       "      <td>...</td>\n",
       "      <td>0.1</td>\n",
       "      <td>3.9</td>\n",
       "      <td>10.0</td>\n",
       "      <td>0.09</td>\n",
       "      <td>0.0</td>\n",
       "      <td>d</td>\n",
       "      <td>False</td>\n",
       "      <td>False</td>\n",
       "      <td>False</td>\n",
       "      <td>False</td>\n",
       "    </tr>\n",
       "    <tr>\n",
       "      <th>4</th>\n",
       "      <td>00000000000026772226</td>\n",
       "      <td>Skyr</td>\n",
       "      <td>480 g</td>\n",
       "      <td>danone</td>\n",
       "      <td>en:france</td>\n",
       "      <td>NaN</td>\n",
       "      <td>https://images.openfoodfacts.org/images/produc...</td>\n",
       "      <td>NaN</td>\n",
       "      <td>a</td>\n",
       "      <td>57.0</td>\n",
       "      <td>...</td>\n",
       "      <td>0.1</td>\n",
       "      <td>3.9</td>\n",
       "      <td>10.0</td>\n",
       "      <td>0.09</td>\n",
       "      <td>0.0</td>\n",
       "      <td>d</td>\n",
       "      <td>False</td>\n",
       "      <td>False</td>\n",
       "      <td>False</td>\n",
       "      <td>False</td>\n",
       "    </tr>\n",
       "    <tr>\n",
       "      <th>...</th>\n",
       "      <td>...</td>\n",
       "      <td>...</td>\n",
       "      <td>...</td>\n",
       "      <td>...</td>\n",
       "      <td>...</td>\n",
       "      <td>...</td>\n",
       "      <td>...</td>\n",
       "      <td>...</td>\n",
       "      <td>...</td>\n",
       "      <td>...</td>\n",
       "      <td>...</td>\n",
       "      <td>...</td>\n",
       "      <td>...</td>\n",
       "      <td>...</td>\n",
       "      <td>...</td>\n",
       "      <td>...</td>\n",
       "      <td>...</td>\n",
       "      <td>...</td>\n",
       "      <td>...</td>\n",
       "      <td>...</td>\n",
       "      <td>...</td>\n",
       "    </tr>\n",
       "    <tr>\n",
       "      <th>2529995</th>\n",
       "      <td>9999990060556</td>\n",
       "      <td>Cailloux coeur chocolat</td>\n",
       "      <td>NaN</td>\n",
       "      <td>NaN</td>\n",
       "      <td>en:france</td>\n",
       "      <td>NaN</td>\n",
       "      <td>https://images.openfoodfacts.org/images/produc...</td>\n",
       "      <td>NaN</td>\n",
       "      <td>NaN</td>\n",
       "      <td>404.0</td>\n",
       "      <td>...</td>\n",
       "      <td>0.0</td>\n",
       "      <td>93.0</td>\n",
       "      <td>0.0</td>\n",
       "      <td>0.00</td>\n",
       "      <td>0.0</td>\n",
       "      <td>unknown</td>\n",
       "      <td>False</td>\n",
       "      <td>False</td>\n",
       "      <td>False</td>\n",
       "      <td>NaN</td>\n",
       "    </tr>\n",
       "    <tr>\n",
       "      <th>2529996</th>\n",
       "      <td>9999990060563</td>\n",
       "      <td>Cailloux Coeur Chocolat</td>\n",
       "      <td>NaN</td>\n",
       "      <td>NaN</td>\n",
       "      <td>en:france</td>\n",
       "      <td>NaN</td>\n",
       "      <td>https://images.openfoodfacts.org/images/produc...</td>\n",
       "      <td>NaN</td>\n",
       "      <td>NaN</td>\n",
       "      <td>NaN</td>\n",
       "      <td>...</td>\n",
       "      <td>NaN</td>\n",
       "      <td>NaN</td>\n",
       "      <td>NaN</td>\n",
       "      <td>NaN</td>\n",
       "      <td>0.0</td>\n",
       "      <td>unknown</td>\n",
       "      <td>False</td>\n",
       "      <td>False</td>\n",
       "      <td>False</td>\n",
       "      <td>NaN</td>\n",
       "    </tr>\n",
       "    <tr>\n",
       "      <th>2529997</th>\n",
       "      <td>9999990060600</td>\n",
       "      <td>Pastilles Menthe</td>\n",
       "      <td>NaN</td>\n",
       "      <td>NaN</td>\n",
       "      <td>en:france</td>\n",
       "      <td>NaN</td>\n",
       "      <td>https://images.openfoodfacts.org/images/produc...</td>\n",
       "      <td>NaN</td>\n",
       "      <td>NaN</td>\n",
       "      <td>NaN</td>\n",
       "      <td>...</td>\n",
       "      <td>NaN</td>\n",
       "      <td>NaN</td>\n",
       "      <td>NaN</td>\n",
       "      <td>NaN</td>\n",
       "      <td>0.0</td>\n",
       "      <td>unknown</td>\n",
       "      <td>False</td>\n",
       "      <td>False</td>\n",
       "      <td>False</td>\n",
       "      <td>NaN</td>\n",
       "    </tr>\n",
       "    <tr>\n",
       "      <th>2529998</th>\n",
       "      <td>9999990415851</td>\n",
       "      <td>Tartes saveur pommes</td>\n",
       "      <td>NaN</td>\n",
       "      <td>NaN</td>\n",
       "      <td>en:france</td>\n",
       "      <td>NaN</td>\n",
       "      <td>https://images.openfoodfacts.org/images/produc...</td>\n",
       "      <td>NaN</td>\n",
       "      <td>NaN</td>\n",
       "      <td>401.0</td>\n",
       "      <td>...</td>\n",
       "      <td>6.5</td>\n",
       "      <td>36.0</td>\n",
       "      <td>4.0</td>\n",
       "      <td>0.48</td>\n",
       "      <td>0.0</td>\n",
       "      <td>unknown</td>\n",
       "      <td>False</td>\n",
       "      <td>False</td>\n",
       "      <td>False</td>\n",
       "      <td>NaN</td>\n",
       "    </tr>\n",
       "    <tr>\n",
       "      <th>2529999</th>\n",
       "      <td>9999991087217</td>\n",
       "      <td>Pastilles à l'eau de lourdes</td>\n",
       "      <td>NaN</td>\n",
       "      <td>NaN</td>\n",
       "      <td>en:france</td>\n",
       "      <td>NaN</td>\n",
       "      <td>https://images.openfoodfacts.org/images/produc...</td>\n",
       "      <td>NaN</td>\n",
       "      <td>NaN</td>\n",
       "      <td>397.0</td>\n",
       "      <td>...</td>\n",
       "      <td>0.0</td>\n",
       "      <td>99.0</td>\n",
       "      <td>0.2</td>\n",
       "      <td>NaN</td>\n",
       "      <td>0.0</td>\n",
       "      <td>unknown</td>\n",
       "      <td>False</td>\n",
       "      <td>False</td>\n",
       "      <td>False</td>\n",
       "      <td>NaN</td>\n",
       "    </tr>\n",
       "  </tbody>\n",
       "</table>\n",
       "<p>2530000 rows × 21 columns</p>\n",
       "</div>"
      ],
      "text/plain": [
       "                         code                  product_name quantity  \\\n",
       "0        00000000000026772226                          Skyr    480 g   \n",
       "1        00000000000026772226                          Skyr    480 g   \n",
       "2        00000000000026772226                          Skyr    480 g   \n",
       "3        00000000000026772226                          Skyr    480 g   \n",
       "4        00000000000026772226                          Skyr    480 g   \n",
       "...                       ...                           ...      ...   \n",
       "2529995         9999990060556       Cailloux coeur chocolat      NaN   \n",
       "2529996         9999990060563       Cailloux Coeur Chocolat      NaN   \n",
       "2529997         9999990060600              Pastilles Menthe      NaN   \n",
       "2529998         9999990415851          Tartes saveur pommes      NaN   \n",
       "2529999         9999991087217  Pastilles à l'eau de lourdes      NaN   \n",
       "\n",
       "        brands_tags countries_tags serving_size  \\\n",
       "0            danone      en:france          NaN   \n",
       "1            danone      en:france          NaN   \n",
       "2            danone      en:france          NaN   \n",
       "3            danone      en:france          NaN   \n",
       "4            danone      en:france          NaN   \n",
       "...             ...            ...          ...   \n",
       "2529995         NaN      en:france          NaN   \n",
       "2529996         NaN      en:france          NaN   \n",
       "2529997         NaN      en:france          NaN   \n",
       "2529998         NaN      en:france          NaN   \n",
       "2529999         NaN      en:france          NaN   \n",
       "\n",
       "                                                 image_url ingredients_tags  \\\n",
       "0        https://images.openfoodfacts.org/images/produc...              NaN   \n",
       "1        https://images.openfoodfacts.org/images/produc...              NaN   \n",
       "2        https://images.openfoodfacts.org/images/produc...              NaN   \n",
       "3        https://images.openfoodfacts.org/images/produc...              NaN   \n",
       "4        https://images.openfoodfacts.org/images/produc...              NaN   \n",
       "...                                                    ...              ...   \n",
       "2529995  https://images.openfoodfacts.org/images/produc...              NaN   \n",
       "2529996  https://images.openfoodfacts.org/images/produc...              NaN   \n",
       "2529997  https://images.openfoodfacts.org/images/produc...              NaN   \n",
       "2529998  https://images.openfoodfacts.org/images/produc...              NaN   \n",
       "2529999  https://images.openfoodfacts.org/images/produc...              NaN   \n",
       "\n",
       "        nutriscore_grade  energy-kcal_100g  ...  saturated-fat_100g  \\\n",
       "0                      a              57.0  ...                 0.1   \n",
       "1                      a              57.0  ...                 0.1   \n",
       "2                      a              57.0  ...                 0.1   \n",
       "3                      a              57.0  ...                 0.1   \n",
       "4                      a              57.0  ...                 0.1   \n",
       "...                  ...               ...  ...                 ...   \n",
       "2529995              NaN             404.0  ...                 0.0   \n",
       "2529996              NaN               NaN  ...                 NaN   \n",
       "2529997              NaN               NaN  ...                 NaN   \n",
       "2529998              NaN             401.0  ...                 6.5   \n",
       "2529999              NaN             397.0  ...                 0.0   \n",
       "\n",
       "         sugars_100g  proteins_100g  salt_100g  nb_nocif  ecoscore_grade  \\\n",
       "0                3.9           10.0       0.09       0.0               d   \n",
       "1                3.9           10.0       0.09       0.0               d   \n",
       "2                3.9           10.0       0.09       0.0               d   \n",
       "3                3.9           10.0       0.09       0.0               d   \n",
       "4                3.9           10.0       0.09       0.0               d   \n",
       "...              ...            ...        ...       ...             ...   \n",
       "2529995         93.0            0.0       0.00       0.0         unknown   \n",
       "2529996          NaN            NaN        NaN       0.0         unknown   \n",
       "2529997          NaN            NaN        NaN       0.0         unknown   \n",
       "2529998         36.0            4.0       0.48       0.0         unknown   \n",
       "2529999         99.0            0.2        NaN       0.0         unknown   \n",
       "\n",
       "        est_plastique  est_palm  est_cocoa  est_bio  \n",
       "0               False     False      False    False  \n",
       "1               False     False      False    False  \n",
       "2               False     False      False    False  \n",
       "3               False     False      False    False  \n",
       "4               False     False      False    False  \n",
       "...               ...       ...        ...      ...  \n",
       "2529995         False     False      False      NaN  \n",
       "2529996         False     False      False      NaN  \n",
       "2529997         False     False      False      NaN  \n",
       "2529998         False     False      False      NaN  \n",
       "2529999         False     False      False      NaN  \n",
       "\n",
       "[2530000 rows x 21 columns]"
      ]
     },
     "execution_count": 131,
     "metadata": {},
     "output_type": "execute_result"
    }
   ],
   "source": [
    "mixed_dt = pd.merge(double, bio, how = 'outer')\n",
    "mixed_dt\n",
    "# mixed_dt est la fusion des trois dt importé"
   ]
  },
  {
   "cell_type": "code",
   "execution_count": 1,
   "id": "11bd5911-6d56-426b-9ccf-269ac7663768",
   "metadata": {},
   "outputs": [
    {
     "ename": "NameError",
     "evalue": "name 'mixed_dt' is not defined",
     "output_type": "error",
     "traceback": [
      "\u001b[1;31m---------------------------------------------------------------------------\u001b[0m",
      "\u001b[1;31mNameError\u001b[0m                                 Traceback (most recent call last)",
      "Cell \u001b[1;32mIn[1], line 2\u001b[0m\n\u001b[0;32m      1\u001b[0m \u001b[38;5;66;03m# Sélectionner les produits avec Nutri-Score A et Eco-Score A\u001b[39;00m\n\u001b[1;32m----> 2\u001b[0m marque_reco \u001b[38;5;241m=\u001b[39m mixed_dt\u001b[38;5;241m.\u001b[39mloc[(mixed_dt[\u001b[38;5;124m'\u001b[39m\u001b[38;5;124mNutri-Score\u001b[39m\u001b[38;5;124m'\u001b[39m] \u001b[38;5;241m==\u001b[39m \u001b[38;5;124m'\u001b[39m\u001b[38;5;124ma\u001b[39m\u001b[38;5;124m'\u001b[39m) \u001b[38;5;241m&\u001b[39m (mixed_dt[\u001b[38;5;124m'\u001b[39m\u001b[38;5;124mEco-Score\u001b[39m\u001b[38;5;124m'\u001b[39m] \u001b[38;5;241m==\u001b[39m \u001b[38;5;124m'\u001b[39m\u001b[38;5;124ma\u001b[39m\u001b[38;5;124m'\u001b[39m)]\n",
      "\u001b[1;31mNameError\u001b[0m: name 'mixed_dt' is not defined"
     ]
    }
   ],
   "source": [
    "# Sélectionner les produits avec Nutri-Score A et Eco-Score A\n",
    "marque_reco = mixed_dt.loc[(mixed_dt['Nutri-Score'] == 'a') & (mixed_dt['Eco-Score'] == 'a')]\n"
   ]
  },
  {
   "cell_type": "code",
   "execution_count": 127,
   "id": "e46bd68b-44c4-4132-8566-394a91801867",
   "metadata": {},
   "outputs": [
    {
     "data": {
      "text/plain": [
       "pandas.core.frame.DataFrame"
      ]
     },
     "execution_count": 127,
     "metadata": {},
     "output_type": "execute_result"
    }
   ],
   "source": [
    "type(mixed_dt)"
   ]
  },
  {
   "cell_type": "code",
   "execution_count": 133,
   "id": "b48ede95-6d06-42c2-928d-5bd732527382",
   "metadata": {
    "scrolled": true
   },
   "outputs": [
    {
     "data": {
      "text/plain": [
       "code                        0\n",
       "product_name           836025\n",
       "quantity              2056687\n",
       "brands_tags            583066\n",
       "countries_tags              0\n",
       "serving_size          2406502\n",
       "image_url              562071\n",
       "ingredients_tags      2055467\n",
       "nutriscore_grade      1811574\n",
       "energy-kcal_100g      1149423\n",
       "fat_100g              1140596\n",
       "saturated-fat_100g    1133722\n",
       "sugars_100g           1127723\n",
       "proteins_100g         1131351\n",
       "salt_100g             1167702\n",
       "nb_nocif                    0\n",
       "ecoscore_grade           2542\n",
       "est_plastique               0\n",
       "est_palm                    0\n",
       "est_cocoa                   0\n",
       "est_bio                583066\n",
       "dtype: int64"
      ]
     },
     "execution_count": 133,
     "metadata": {},
     "output_type": "execute_result"
    }
   ],
   "source": [
    "mixed_dt.isnull().sum()"
   ]
  },
  {
   "cell_type": "code",
   "execution_count": 135,
   "id": "4c7f73c9-b9f3-4908-8a21-ec7effc5e88e",
   "metadata": {},
   "outputs": [
    {
     "data": {
      "text/html": [
       "<div>\n",
       "<style scoped>\n",
       "    .dataframe tbody tr th:only-of-type {\n",
       "        vertical-align: middle;\n",
       "    }\n",
       "\n",
       "    .dataframe tbody tr th {\n",
       "        vertical-align: top;\n",
       "    }\n",
       "\n",
       "    .dataframe thead th {\n",
       "        text-align: right;\n",
       "    }\n",
       "</style>\n",
       "<table border=\"1\" class=\"dataframe\">\n",
       "  <thead>\n",
       "    <tr style=\"text-align: right;\">\n",
       "      <th></th>\n",
       "      <th>code</th>\n",
       "      <th>product_name</th>\n",
       "      <th>quantity</th>\n",
       "      <th>brands_tags</th>\n",
       "      <th>countries_tags</th>\n",
       "      <th>serving_size</th>\n",
       "      <th>image_url</th>\n",
       "      <th>ingredients_tags</th>\n",
       "      <th>nutriscore_grade</th>\n",
       "      <th>energy-kcal_100g</th>\n",
       "      <th>...</th>\n",
       "      <th>saturated-fat_100g</th>\n",
       "      <th>sugars_100g</th>\n",
       "      <th>proteins_100g</th>\n",
       "      <th>salt_100g</th>\n",
       "      <th>nb_nocif</th>\n",
       "      <th>ecoscore_grade</th>\n",
       "      <th>est_plastique</th>\n",
       "      <th>est_palm</th>\n",
       "      <th>est_cocoa</th>\n",
       "      <th>est_bio</th>\n",
       "    </tr>\n",
       "  </thead>\n",
       "  <tbody>\n",
       "    <tr>\n",
       "      <th>0</th>\n",
       "      <td>00000000000026772226</td>\n",
       "      <td>Skyr</td>\n",
       "      <td>480 g</td>\n",
       "      <td>danone</td>\n",
       "      <td>en:france</td>\n",
       "      <td>NaN</td>\n",
       "      <td>https://images.openfoodfacts.org/images/produc...</td>\n",
       "      <td>NaN</td>\n",
       "      <td>a</td>\n",
       "      <td>57.0</td>\n",
       "      <td>...</td>\n",
       "      <td>0.1</td>\n",
       "      <td>3.9</td>\n",
       "      <td>10.0</td>\n",
       "      <td>0.09</td>\n",
       "      <td>0.0</td>\n",
       "      <td>d</td>\n",
       "      <td>False</td>\n",
       "      <td>False</td>\n",
       "      <td>False</td>\n",
       "      <td>False</td>\n",
       "    </tr>\n",
       "    <tr>\n",
       "      <th>1</th>\n",
       "      <td>00000000000026772226</td>\n",
       "      <td>Skyr</td>\n",
       "      <td>480 g</td>\n",
       "      <td>danone</td>\n",
       "      <td>en:france</td>\n",
       "      <td>NaN</td>\n",
       "      <td>https://images.openfoodfacts.org/images/produc...</td>\n",
       "      <td>NaN</td>\n",
       "      <td>a</td>\n",
       "      <td>57.0</td>\n",
       "      <td>...</td>\n",
       "      <td>0.1</td>\n",
       "      <td>3.9</td>\n",
       "      <td>10.0</td>\n",
       "      <td>0.09</td>\n",
       "      <td>0.0</td>\n",
       "      <td>d</td>\n",
       "      <td>False</td>\n",
       "      <td>False</td>\n",
       "      <td>False</td>\n",
       "      <td>False</td>\n",
       "    </tr>\n",
       "    <tr>\n",
       "      <th>2</th>\n",
       "      <td>00000000000026772226</td>\n",
       "      <td>Skyr</td>\n",
       "      <td>480 g</td>\n",
       "      <td>danone</td>\n",
       "      <td>en:france</td>\n",
       "      <td>NaN</td>\n",
       "      <td>https://images.openfoodfacts.org/images/produc...</td>\n",
       "      <td>NaN</td>\n",
       "      <td>a</td>\n",
       "      <td>57.0</td>\n",
       "      <td>...</td>\n",
       "      <td>0.1</td>\n",
       "      <td>3.9</td>\n",
       "      <td>10.0</td>\n",
       "      <td>0.09</td>\n",
       "      <td>0.0</td>\n",
       "      <td>d</td>\n",
       "      <td>False</td>\n",
       "      <td>False</td>\n",
       "      <td>False</td>\n",
       "      <td>False</td>\n",
       "    </tr>\n",
       "    <tr>\n",
       "      <th>3</th>\n",
       "      <td>00000000000026772226</td>\n",
       "      <td>Skyr</td>\n",
       "      <td>480 g</td>\n",
       "      <td>danone</td>\n",
       "      <td>en:france</td>\n",
       "      <td>NaN</td>\n",
       "      <td>https://images.openfoodfacts.org/images/produc...</td>\n",
       "      <td>NaN</td>\n",
       "      <td>a</td>\n",
       "      <td>57.0</td>\n",
       "      <td>...</td>\n",
       "      <td>0.1</td>\n",
       "      <td>3.9</td>\n",
       "      <td>10.0</td>\n",
       "      <td>0.09</td>\n",
       "      <td>0.0</td>\n",
       "      <td>d</td>\n",
       "      <td>False</td>\n",
       "      <td>False</td>\n",
       "      <td>False</td>\n",
       "      <td>False</td>\n",
       "    </tr>\n",
       "    <tr>\n",
       "      <th>4</th>\n",
       "      <td>00000000000026772226</td>\n",
       "      <td>Skyr</td>\n",
       "      <td>480 g</td>\n",
       "      <td>danone</td>\n",
       "      <td>en:france</td>\n",
       "      <td>NaN</td>\n",
       "      <td>https://images.openfoodfacts.org/images/produc...</td>\n",
       "      <td>NaN</td>\n",
       "      <td>a</td>\n",
       "      <td>57.0</td>\n",
       "      <td>...</td>\n",
       "      <td>0.1</td>\n",
       "      <td>3.9</td>\n",
       "      <td>10.0</td>\n",
       "      <td>0.09</td>\n",
       "      <td>0.0</td>\n",
       "      <td>d</td>\n",
       "      <td>False</td>\n",
       "      <td>False</td>\n",
       "      <td>False</td>\n",
       "      <td>False</td>\n",
       "    </tr>\n",
       "    <tr>\n",
       "      <th>...</th>\n",
       "      <td>...</td>\n",
       "      <td>...</td>\n",
       "      <td>...</td>\n",
       "      <td>...</td>\n",
       "      <td>...</td>\n",
       "      <td>...</td>\n",
       "      <td>...</td>\n",
       "      <td>...</td>\n",
       "      <td>...</td>\n",
       "      <td>...</td>\n",
       "      <td>...</td>\n",
       "      <td>...</td>\n",
       "      <td>...</td>\n",
       "      <td>...</td>\n",
       "      <td>...</td>\n",
       "      <td>...</td>\n",
       "      <td>...</td>\n",
       "      <td>...</td>\n",
       "      <td>...</td>\n",
       "      <td>...</td>\n",
       "      <td>...</td>\n",
       "    </tr>\n",
       "    <tr>\n",
       "      <th>24233</th>\n",
       "      <td>3583788397571</td>\n",
       "      <td>NaN</td>\n",
       "      <td>NaN</td>\n",
       "      <td>aptonia</td>\n",
       "      <td>en:france</td>\n",
       "      <td>NaN</td>\n",
       "      <td>https://images.openfoodfacts.org/images/produc...</td>\n",
       "      <td>NaN</td>\n",
       "      <td>NaN</td>\n",
       "      <td>NaN</td>\n",
       "      <td>...</td>\n",
       "      <td>NaN</td>\n",
       "      <td>NaN</td>\n",
       "      <td>NaN</td>\n",
       "      <td>NaN</td>\n",
       "      <td>0.0</td>\n",
       "      <td>unknown</td>\n",
       "      <td>False</td>\n",
       "      <td>False</td>\n",
       "      <td>False</td>\n",
       "      <td>False</td>\n",
       "    </tr>\n",
       "    <tr>\n",
       "      <th>24234</th>\n",
       "      <td>3583788397571</td>\n",
       "      <td>NaN</td>\n",
       "      <td>NaN</td>\n",
       "      <td>aptonia</td>\n",
       "      <td>en:france</td>\n",
       "      <td>NaN</td>\n",
       "      <td>https://images.openfoodfacts.org/images/produc...</td>\n",
       "      <td>NaN</td>\n",
       "      <td>NaN</td>\n",
       "      <td>NaN</td>\n",
       "      <td>...</td>\n",
       "      <td>NaN</td>\n",
       "      <td>NaN</td>\n",
       "      <td>NaN</td>\n",
       "      <td>NaN</td>\n",
       "      <td>0.0</td>\n",
       "      <td>unknown</td>\n",
       "      <td>False</td>\n",
       "      <td>False</td>\n",
       "      <td>False</td>\n",
       "      <td>False</td>\n",
       "    </tr>\n",
       "    <tr>\n",
       "      <th>24235</th>\n",
       "      <td>3583788397571</td>\n",
       "      <td>NaN</td>\n",
       "      <td>NaN</td>\n",
       "      <td>aptonia</td>\n",
       "      <td>en:france</td>\n",
       "      <td>NaN</td>\n",
       "      <td>https://images.openfoodfacts.org/images/produc...</td>\n",
       "      <td>NaN</td>\n",
       "      <td>NaN</td>\n",
       "      <td>NaN</td>\n",
       "      <td>...</td>\n",
       "      <td>NaN</td>\n",
       "      <td>NaN</td>\n",
       "      <td>NaN</td>\n",
       "      <td>NaN</td>\n",
       "      <td>0.0</td>\n",
       "      <td>unknown</td>\n",
       "      <td>False</td>\n",
       "      <td>False</td>\n",
       "      <td>False</td>\n",
       "      <td>False</td>\n",
       "    </tr>\n",
       "    <tr>\n",
       "      <th>24236</th>\n",
       "      <td>3583788397571</td>\n",
       "      <td>NaN</td>\n",
       "      <td>NaN</td>\n",
       "      <td>aptonia</td>\n",
       "      <td>en:france</td>\n",
       "      <td>NaN</td>\n",
       "      <td>https://images.openfoodfacts.org/images/produc...</td>\n",
       "      <td>NaN</td>\n",
       "      <td>NaN</td>\n",
       "      <td>NaN</td>\n",
       "      <td>...</td>\n",
       "      <td>NaN</td>\n",
       "      <td>NaN</td>\n",
       "      <td>NaN</td>\n",
       "      <td>NaN</td>\n",
       "      <td>0.0</td>\n",
       "      <td>unknown</td>\n",
       "      <td>False</td>\n",
       "      <td>False</td>\n",
       "      <td>False</td>\n",
       "      <td>False</td>\n",
       "    </tr>\n",
       "    <tr>\n",
       "      <th>24237</th>\n",
       "      <td>3583788397571</td>\n",
       "      <td>NaN</td>\n",
       "      <td>NaN</td>\n",
       "      <td>aptonia</td>\n",
       "      <td>en:france</td>\n",
       "      <td>NaN</td>\n",
       "      <td>https://images.openfoodfacts.org/images/produc...</td>\n",
       "      <td>NaN</td>\n",
       "      <td>NaN</td>\n",
       "      <td>NaN</td>\n",
       "      <td>...</td>\n",
       "      <td>NaN</td>\n",
       "      <td>NaN</td>\n",
       "      <td>NaN</td>\n",
       "      <td>NaN</td>\n",
       "      <td>0.0</td>\n",
       "      <td>unknown</td>\n",
       "      <td>False</td>\n",
       "      <td>False</td>\n",
       "      <td>False</td>\n",
       "      <td>False</td>\n",
       "    </tr>\n",
       "  </tbody>\n",
       "</table>\n",
       "<p>100 rows × 21 columns</p>\n",
       "</div>"
      ],
      "text/plain": [
       "                       code product_name quantity brands_tags countries_tags  \\\n",
       "0      00000000000026772226         Skyr    480 g      danone      en:france   \n",
       "1      00000000000026772226         Skyr    480 g      danone      en:france   \n",
       "2      00000000000026772226         Skyr    480 g      danone      en:france   \n",
       "3      00000000000026772226         Skyr    480 g      danone      en:france   \n",
       "4      00000000000026772226         Skyr    480 g      danone      en:france   \n",
       "...                     ...          ...      ...         ...            ...   \n",
       "24233         3583788397571          NaN      NaN     aptonia      en:france   \n",
       "24234         3583788397571          NaN      NaN     aptonia      en:france   \n",
       "24235         3583788397571          NaN      NaN     aptonia      en:france   \n",
       "24236         3583788397571          NaN      NaN     aptonia      en:france   \n",
       "24237         3583788397571          NaN      NaN     aptonia      en:france   \n",
       "\n",
       "      serving_size                                          image_url  \\\n",
       "0              NaN  https://images.openfoodfacts.org/images/produc...   \n",
       "1              NaN  https://images.openfoodfacts.org/images/produc...   \n",
       "2              NaN  https://images.openfoodfacts.org/images/produc...   \n",
       "3              NaN  https://images.openfoodfacts.org/images/produc...   \n",
       "4              NaN  https://images.openfoodfacts.org/images/produc...   \n",
       "...            ...                                                ...   \n",
       "24233          NaN  https://images.openfoodfacts.org/images/produc...   \n",
       "24234          NaN  https://images.openfoodfacts.org/images/produc...   \n",
       "24235          NaN  https://images.openfoodfacts.org/images/produc...   \n",
       "24236          NaN  https://images.openfoodfacts.org/images/produc...   \n",
       "24237          NaN  https://images.openfoodfacts.org/images/produc...   \n",
       "\n",
       "      ingredients_tags nutriscore_grade  energy-kcal_100g  ...  \\\n",
       "0                  NaN                a              57.0  ...   \n",
       "1                  NaN                a              57.0  ...   \n",
       "2                  NaN                a              57.0  ...   \n",
       "3                  NaN                a              57.0  ...   \n",
       "4                  NaN                a              57.0  ...   \n",
       "...                ...              ...               ...  ...   \n",
       "24233              NaN              NaN               NaN  ...   \n",
       "24234              NaN              NaN               NaN  ...   \n",
       "24235              NaN              NaN               NaN  ...   \n",
       "24236              NaN              NaN               NaN  ...   \n",
       "24237              NaN              NaN               NaN  ...   \n",
       "\n",
       "       saturated-fat_100g  sugars_100g  proteins_100g  salt_100g  nb_nocif  \\\n",
       "0                     0.1          3.9           10.0       0.09       0.0   \n",
       "1                     0.1          3.9           10.0       0.09       0.0   \n",
       "2                     0.1          3.9           10.0       0.09       0.0   \n",
       "3                     0.1          3.9           10.0       0.09       0.0   \n",
       "4                     0.1          3.9           10.0       0.09       0.0   \n",
       "...                   ...          ...            ...        ...       ...   \n",
       "24233                 NaN          NaN            NaN        NaN       0.0   \n",
       "24234                 NaN          NaN            NaN        NaN       0.0   \n",
       "24235                 NaN          NaN            NaN        NaN       0.0   \n",
       "24236                 NaN          NaN            NaN        NaN       0.0   \n",
       "24237                 NaN          NaN            NaN        NaN       0.0   \n",
       "\n",
       "       ecoscore_grade est_plastique  est_palm  est_cocoa  est_bio  \n",
       "0                   d         False     False      False    False  \n",
       "1                   d         False     False      False    False  \n",
       "2                   d         False     False      False    False  \n",
       "3                   d         False     False      False    False  \n",
       "4                   d         False     False      False    False  \n",
       "...               ...           ...       ...        ...      ...  \n",
       "24233         unknown         False     False      False    False  \n",
       "24234         unknown         False     False      False    False  \n",
       "24235         unknown         False     False      False    False  \n",
       "24236         unknown         False     False      False    False  \n",
       "24237         unknown         False     False      False    False  \n",
       "\n",
       "[100 rows x 21 columns]"
      ]
     },
     "execution_count": 135,
     "metadata": {},
     "output_type": "execute_result"
    }
   ],
   "source": [
    "# ici on supprime tous les NaN dans les brands_tags \n",
    "mixed_clean = mixed_dt.dropna(subset=['brands_tags'])\n",
    "mixed_clean.head(100)\n",
    "# subset permet de filtrer des lignes en fonction de conditions"
   ]
  },
  {
   "cell_type": "code",
   "execution_count": 136,
   "id": "d1659e86-2abb-4c87-904c-c8feb67dd6dd",
   "metadata": {},
   "outputs": [
    {
     "data": {
      "text/plain": [
       "0.98    104.0\n",
       "Name: product_name, dtype: float64"
      ]
     },
     "execution_count": 136,
     "metadata": {},
     "output_type": "execute_result"
    }
   ],
   "source": [
    "mixed_clean.groupby('brands_tags').product_name.count().quantile([0.98])\n",
    "# il y a 2% de marque qui ont plus de 104 produit "
   ]
  },
  {
   "cell_type": "markdown",
   "id": "87fb43a1-fa3a-4304-8091-2c9a65f593d7",
   "metadata": {},
   "source": [
    "### Quelles sont les marques qui présentent des produits avec la meilleure qualité nutritionnelle ?"
   ]
  },
  {
   "cell_type": "code",
   "execution_count": 73,
   "id": "7a72f95c-9707-4d28-aecd-0b80093479fe",
   "metadata": {},
   "outputs": [
    {
     "data": {
      "text/plain": [
       "brands_tags\n",
       "0                    2\n",
       "0,neuhauser          1\n",
       "0,ranou              1\n",
       "0-sauce              1\n",
       "1                    5\n",
       "                    ..\n",
       "국순당,kooksoondang     1\n",
       "데미-소다,demisoda       1\n",
       "샘표,saempyo,sempio    1\n",
       "자연은,jayeon-eun       1\n",
       "청정원,daesang          1\n",
       "Length: 58298, dtype: int64"
      ]
     },
     "execution_count": 73,
     "metadata": {},
     "output_type": "execute_result"
    }
   ],
   "source": [
    "nombre_produits_par_marque = mixed_clean.groupby('brands_tags').size()\n",
    "nombre_produits_par_marque"
   ]
  },
  {
   "cell_type": "code",
   "execution_count": 138,
   "id": "7358e2ed-a223-48d1-ba0f-47d0c1f0b39a",
   "metadata": {},
   "outputs": [],
   "source": [
    "marques_plus_500 = nombre_produits_par_marque[nombre_produits_par_marque >= 500]"
   ]
  },
  {
   "cell_type": "code",
   "execution_count": 141,
   "id": "fd8e1bcf-ae14-4625-b9e4-10b58b9ed5e6",
   "metadata": {},
   "outputs": [
    {
     "data": {
      "text/html": [
       "<div>\n",
       "<style scoped>\n",
       "    .dataframe tbody tr th:only-of-type {\n",
       "        vertical-align: middle;\n",
       "    }\n",
       "\n",
       "    .dataframe tbody tr th {\n",
       "        vertical-align: top;\n",
       "    }\n",
       "\n",
       "    .dataframe thead th {\n",
       "        text-align: right;\n",
       "    }\n",
       "</style>\n",
       "<table border=\"1\" class=\"dataframe\">\n",
       "  <thead>\n",
       "    <tr style=\"text-align: right;\">\n",
       "      <th></th>\n",
       "      <th>code</th>\n",
       "      <th>product_name</th>\n",
       "      <th>quantity</th>\n",
       "      <th>brands_tags</th>\n",
       "      <th>countries_tags</th>\n",
       "      <th>serving_size</th>\n",
       "      <th>image_url</th>\n",
       "      <th>ingredients_tags</th>\n",
       "      <th>nutriscore_grade</th>\n",
       "      <th>energy-kcal_100g</th>\n",
       "      <th>...</th>\n",
       "      <th>saturated-fat_100g</th>\n",
       "      <th>sugars_100g</th>\n",
       "      <th>proteins_100g</th>\n",
       "      <th>salt_100g</th>\n",
       "      <th>nb_nocif</th>\n",
       "      <th>ecoscore_grade</th>\n",
       "      <th>est_plastique</th>\n",
       "      <th>est_palm</th>\n",
       "      <th>est_cocoa</th>\n",
       "      <th>est_bio</th>\n",
       "    </tr>\n",
       "  </thead>\n",
       "  <tbody>\n",
       "    <tr>\n",
       "      <th>0</th>\n",
       "      <td>00000000000026772226</td>\n",
       "      <td>Skyr</td>\n",
       "      <td>480 g</td>\n",
       "      <td>danone</td>\n",
       "      <td>en:france</td>\n",
       "      <td>NaN</td>\n",
       "      <td>https://images.openfoodfacts.org/images/produc...</td>\n",
       "      <td>NaN</td>\n",
       "      <td>a</td>\n",
       "      <td>57.0</td>\n",
       "      <td>...</td>\n",
       "      <td>0.10</td>\n",
       "      <td>3.9</td>\n",
       "      <td>10.0</td>\n",
       "      <td>0.09</td>\n",
       "      <td>0.0</td>\n",
       "      <td>d</td>\n",
       "      <td>False</td>\n",
       "      <td>False</td>\n",
       "      <td>False</td>\n",
       "      <td>False</td>\n",
       "    </tr>\n",
       "    <tr>\n",
       "      <th>1</th>\n",
       "      <td>00000000000026772226</td>\n",
       "      <td>Skyr</td>\n",
       "      <td>480 g</td>\n",
       "      <td>danone</td>\n",
       "      <td>en:france</td>\n",
       "      <td>NaN</td>\n",
       "      <td>https://images.openfoodfacts.org/images/produc...</td>\n",
       "      <td>NaN</td>\n",
       "      <td>a</td>\n",
       "      <td>57.0</td>\n",
       "      <td>...</td>\n",
       "      <td>0.10</td>\n",
       "      <td>3.9</td>\n",
       "      <td>10.0</td>\n",
       "      <td>0.09</td>\n",
       "      <td>0.0</td>\n",
       "      <td>d</td>\n",
       "      <td>False</td>\n",
       "      <td>False</td>\n",
       "      <td>False</td>\n",
       "      <td>False</td>\n",
       "    </tr>\n",
       "    <tr>\n",
       "      <th>2</th>\n",
       "      <td>00000000000026772226</td>\n",
       "      <td>Skyr</td>\n",
       "      <td>480 g</td>\n",
       "      <td>danone</td>\n",
       "      <td>en:france</td>\n",
       "      <td>NaN</td>\n",
       "      <td>https://images.openfoodfacts.org/images/produc...</td>\n",
       "      <td>NaN</td>\n",
       "      <td>a</td>\n",
       "      <td>57.0</td>\n",
       "      <td>...</td>\n",
       "      <td>0.10</td>\n",
       "      <td>3.9</td>\n",
       "      <td>10.0</td>\n",
       "      <td>0.09</td>\n",
       "      <td>0.0</td>\n",
       "      <td>d</td>\n",
       "      <td>False</td>\n",
       "      <td>False</td>\n",
       "      <td>False</td>\n",
       "      <td>False</td>\n",
       "    </tr>\n",
       "    <tr>\n",
       "      <th>3</th>\n",
       "      <td>00000000000026772226</td>\n",
       "      <td>Skyr</td>\n",
       "      <td>480 g</td>\n",
       "      <td>danone</td>\n",
       "      <td>en:france</td>\n",
       "      <td>NaN</td>\n",
       "      <td>https://images.openfoodfacts.org/images/produc...</td>\n",
       "      <td>NaN</td>\n",
       "      <td>a</td>\n",
       "      <td>57.0</td>\n",
       "      <td>...</td>\n",
       "      <td>0.10</td>\n",
       "      <td>3.9</td>\n",
       "      <td>10.0</td>\n",
       "      <td>0.09</td>\n",
       "      <td>0.0</td>\n",
       "      <td>d</td>\n",
       "      <td>False</td>\n",
       "      <td>False</td>\n",
       "      <td>False</td>\n",
       "      <td>False</td>\n",
       "    </tr>\n",
       "    <tr>\n",
       "      <th>4</th>\n",
       "      <td>00000000000026772226</td>\n",
       "      <td>Skyr</td>\n",
       "      <td>480 g</td>\n",
       "      <td>danone</td>\n",
       "      <td>en:france</td>\n",
       "      <td>NaN</td>\n",
       "      <td>https://images.openfoodfacts.org/images/produc...</td>\n",
       "      <td>NaN</td>\n",
       "      <td>a</td>\n",
       "      <td>57.0</td>\n",
       "      <td>...</td>\n",
       "      <td>0.10</td>\n",
       "      <td>3.9</td>\n",
       "      <td>10.0</td>\n",
       "      <td>0.09</td>\n",
       "      <td>0.0</td>\n",
       "      <td>d</td>\n",
       "      <td>False</td>\n",
       "      <td>False</td>\n",
       "      <td>False</td>\n",
       "      <td>False</td>\n",
       "    </tr>\n",
       "    <tr>\n",
       "      <th>...</th>\n",
       "      <td>...</td>\n",
       "      <td>...</td>\n",
       "      <td>...</td>\n",
       "      <td>...</td>\n",
       "      <td>...</td>\n",
       "      <td>...</td>\n",
       "      <td>...</td>\n",
       "      <td>...</td>\n",
       "      <td>...</td>\n",
       "      <td>...</td>\n",
       "      <td>...</td>\n",
       "      <td>...</td>\n",
       "      <td>...</td>\n",
       "      <td>...</td>\n",
       "      <td>...</td>\n",
       "      <td>...</td>\n",
       "      <td>...</td>\n",
       "      <td>...</td>\n",
       "      <td>...</td>\n",
       "      <td>...</td>\n",
       "      <td>...</td>\n",
       "    </tr>\n",
       "    <tr>\n",
       "      <th>2529939</th>\n",
       "      <td>99440077</td>\n",
       "      <td>Confiture fraises bio</td>\n",
       "      <td>NaN</td>\n",
       "      <td>les-comtes-de-provence</td>\n",
       "      <td>en:france</td>\n",
       "      <td>NaN</td>\n",
       "      <td>https://images.openfoodfacts.org/images/produc...</td>\n",
       "      <td>NaN</td>\n",
       "      <td>NaN</td>\n",
       "      <td>167.0</td>\n",
       "      <td>...</td>\n",
       "      <td>0.00</td>\n",
       "      <td>42.0</td>\n",
       "      <td>0.5</td>\n",
       "      <td>NaN</td>\n",
       "      <td>0.0</td>\n",
       "      <td>d</td>\n",
       "      <td>False</td>\n",
       "      <td>False</td>\n",
       "      <td>False</td>\n",
       "      <td>False</td>\n",
       "    </tr>\n",
       "    <tr>\n",
       "      <th>2529944</th>\n",
       "      <td>9950019500804</td>\n",
       "      <td>Paquet de céréales</td>\n",
       "      <td>NaN</td>\n",
       "      <td>nestle</td>\n",
       "      <td>en:france</td>\n",
       "      <td>NaN</td>\n",
       "      <td>https://images.openfoodfacts.org/images/produc...</td>\n",
       "      <td>NaN</td>\n",
       "      <td>NaN</td>\n",
       "      <td>420.0</td>\n",
       "      <td>...</td>\n",
       "      <td>2.10</td>\n",
       "      <td>25.0</td>\n",
       "      <td>6.7</td>\n",
       "      <td>0.84</td>\n",
       "      <td>0.0</td>\n",
       "      <td>unknown</td>\n",
       "      <td>False</td>\n",
       "      <td>False</td>\n",
       "      <td>False</td>\n",
       "      <td>False</td>\n",
       "    </tr>\n",
       "    <tr>\n",
       "      <th>2529957</th>\n",
       "      <td>997046</td>\n",
       "      <td>Chocolat noir patissier</td>\n",
       "      <td>NaN</td>\n",
       "      <td>monoprix-bio</td>\n",
       "      <td>en:france</td>\n",
       "      <td>NaN</td>\n",
       "      <td>https://images.openfoodfacts.org/images/produc...</td>\n",
       "      <td>NaN</td>\n",
       "      <td>NaN</td>\n",
       "      <td>578.0</td>\n",
       "      <td>...</td>\n",
       "      <td>24.00</td>\n",
       "      <td>46.0</td>\n",
       "      <td>5.1</td>\n",
       "      <td>0.00</td>\n",
       "      <td>0.0</td>\n",
       "      <td>unknown</td>\n",
       "      <td>False</td>\n",
       "      <td>False</td>\n",
       "      <td>False</td>\n",
       "      <td>True</td>\n",
       "    </tr>\n",
       "    <tr>\n",
       "      <th>2529960</th>\n",
       "      <td>998042</td>\n",
       "      <td>Saveur ABRICIT</td>\n",
       "      <td>NaN</td>\n",
       "      <td>gerble</td>\n",
       "      <td>en:france</td>\n",
       "      <td>NaN</td>\n",
       "      <td>https://images.openfoodfacts.org/images/produc...</td>\n",
       "      <td>NaN</td>\n",
       "      <td>NaN</td>\n",
       "      <td>45.0</td>\n",
       "      <td>...</td>\n",
       "      <td>0.01</td>\n",
       "      <td>1.5</td>\n",
       "      <td>9.7</td>\n",
       "      <td>0.13</td>\n",
       "      <td>0.0</td>\n",
       "      <td>unknown</td>\n",
       "      <td>False</td>\n",
       "      <td>False</td>\n",
       "      <td>False</td>\n",
       "      <td>False</td>\n",
       "    </tr>\n",
       "    <tr>\n",
       "      <th>2529968</th>\n",
       "      <td>9990000</td>\n",
       "      <td>Lindt pâte à tartiner</td>\n",
       "      <td>NaN</td>\n",
       "      <td>lindt</td>\n",
       "      <td>en:france</td>\n",
       "      <td>NaN</td>\n",
       "      <td>https://images.openfoodfacts.org/images/produc...</td>\n",
       "      <td>NaN</td>\n",
       "      <td>NaN</td>\n",
       "      <td>NaN</td>\n",
       "      <td>...</td>\n",
       "      <td>NaN</td>\n",
       "      <td>NaN</td>\n",
       "      <td>NaN</td>\n",
       "      <td>NaN</td>\n",
       "      <td>0.0</td>\n",
       "      <td>unknown</td>\n",
       "      <td>False</td>\n",
       "      <td>False</td>\n",
       "      <td>False</td>\n",
       "      <td>False</td>\n",
       "    </tr>\n",
       "  </tbody>\n",
       "</table>\n",
       "<p>1456873 rows × 21 columns</p>\n",
       "</div>"
      ],
      "text/plain": [
       "                         code             product_name quantity  \\\n",
       "0        00000000000026772226                     Skyr    480 g   \n",
       "1        00000000000026772226                     Skyr    480 g   \n",
       "2        00000000000026772226                     Skyr    480 g   \n",
       "3        00000000000026772226                     Skyr    480 g   \n",
       "4        00000000000026772226                     Skyr    480 g   \n",
       "...                       ...                      ...      ...   \n",
       "2529939              99440077    Confiture fraises bio      NaN   \n",
       "2529944         9950019500804       Paquet de céréales      NaN   \n",
       "2529957                997046  Chocolat noir patissier      NaN   \n",
       "2529960                998042           Saveur ABRICIT      NaN   \n",
       "2529968               9990000    Lindt pâte à tartiner      NaN   \n",
       "\n",
       "                    brands_tags countries_tags serving_size  \\\n",
       "0                        danone      en:france          NaN   \n",
       "1                        danone      en:france          NaN   \n",
       "2                        danone      en:france          NaN   \n",
       "3                        danone      en:france          NaN   \n",
       "4                        danone      en:france          NaN   \n",
       "...                         ...            ...          ...   \n",
       "2529939  les-comtes-de-provence      en:france          NaN   \n",
       "2529944                  nestle      en:france          NaN   \n",
       "2529957            monoprix-bio      en:france          NaN   \n",
       "2529960                  gerble      en:france          NaN   \n",
       "2529968                   lindt      en:france          NaN   \n",
       "\n",
       "                                                 image_url ingredients_tags  \\\n",
       "0        https://images.openfoodfacts.org/images/produc...              NaN   \n",
       "1        https://images.openfoodfacts.org/images/produc...              NaN   \n",
       "2        https://images.openfoodfacts.org/images/produc...              NaN   \n",
       "3        https://images.openfoodfacts.org/images/produc...              NaN   \n",
       "4        https://images.openfoodfacts.org/images/produc...              NaN   \n",
       "...                                                    ...              ...   \n",
       "2529939  https://images.openfoodfacts.org/images/produc...              NaN   \n",
       "2529944  https://images.openfoodfacts.org/images/produc...              NaN   \n",
       "2529957  https://images.openfoodfacts.org/images/produc...              NaN   \n",
       "2529960  https://images.openfoodfacts.org/images/produc...              NaN   \n",
       "2529968  https://images.openfoodfacts.org/images/produc...              NaN   \n",
       "\n",
       "        nutriscore_grade  energy-kcal_100g  ...  saturated-fat_100g  \\\n",
       "0                      a              57.0  ...                0.10   \n",
       "1                      a              57.0  ...                0.10   \n",
       "2                      a              57.0  ...                0.10   \n",
       "3                      a              57.0  ...                0.10   \n",
       "4                      a              57.0  ...                0.10   \n",
       "...                  ...               ...  ...                 ...   \n",
       "2529939              NaN             167.0  ...                0.00   \n",
       "2529944              NaN             420.0  ...                2.10   \n",
       "2529957              NaN             578.0  ...               24.00   \n",
       "2529960              NaN              45.0  ...                0.01   \n",
       "2529968              NaN               NaN  ...                 NaN   \n",
       "\n",
       "         sugars_100g  proteins_100g  salt_100g  nb_nocif  ecoscore_grade  \\\n",
       "0                3.9           10.0       0.09       0.0               d   \n",
       "1                3.9           10.0       0.09       0.0               d   \n",
       "2                3.9           10.0       0.09       0.0               d   \n",
       "3                3.9           10.0       0.09       0.0               d   \n",
       "4                3.9           10.0       0.09       0.0               d   \n",
       "...              ...            ...        ...       ...             ...   \n",
       "2529939         42.0            0.5        NaN       0.0               d   \n",
       "2529944         25.0            6.7       0.84       0.0         unknown   \n",
       "2529957         46.0            5.1       0.00       0.0         unknown   \n",
       "2529960          1.5            9.7       0.13       0.0         unknown   \n",
       "2529968          NaN            NaN        NaN       0.0         unknown   \n",
       "\n",
       "        est_plastique  est_palm  est_cocoa  est_bio  \n",
       "0               False     False      False    False  \n",
       "1               False     False      False    False  \n",
       "2               False     False      False    False  \n",
       "3               False     False      False    False  \n",
       "4               False     False      False    False  \n",
       "...               ...       ...        ...      ...  \n",
       "2529939         False     False      False    False  \n",
       "2529944         False     False      False    False  \n",
       "2529957         False     False      False     True  \n",
       "2529960         False     False      False    False  \n",
       "2529968         False     False      False    False  \n",
       "\n",
       "[1456873 rows x 21 columns]"
      ]
     },
     "execution_count": 141,
     "metadata": {},
     "output_type": "execute_result"
    }
   ],
   "source": [
    "mixed_clean_500 = mixed_clean[mixed_clean['brands_tags'].isin(marques_plus_500.index)]\n",
    "mixed_clean_500\n",
    "# on isole les marques ayant au moins 500 produits pour avoir des stats fiables"
   ]
  },
  {
   "cell_type": "code",
   "execution_count": 147,
   "id": "2c229261-8523-4a04-b4c3-af31645ea51d",
   "metadata": {},
   "outputs": [
    {
     "data": {
      "text/plain": [
       "array(['danone', 'le-gaulois', 'trader-joe-s', 'marks-spencer',\n",
       "       'monoprix', 'bjorg', 'carrefour', 'barilla', 'jardin-bio',\n",
       "       'panzani', 'kellogg-s', 'nestle', 'yoplait', 'heinz',\n",
       "       'monique-ranou', 'evian', 'leader-price', 'materne', 'casino',\n",
       "       'perrier', 'tipiak', 'andros', 'markal', 'bonduelle', 'paquito',\n",
       "       'la-vie-claire', 'leclerc', 'intermarche', 'picard',\n",
       "       'la-vache-qui-rit', 'e-leclerc', 'auchan', 'u', 'sans-marque',\n",
       "       'maitre-coq', 'pere-dodu', 'la-nouvelle-agriculture', 'loue',\n",
       "       'charal', 'findus', 'carrefour-bio', 'tesco', 'saint-eloi',\n",
       "       'franprix', 'volvic', 'celnat', 'primeal', 'lactel', 'paturages',\n",
       "       'thiriet', 'biocoop', 'cereal-bio', 'foodspring',\n",
       "       'lucien-georgelin', 'hema', 'liebig', 'envia', 'super-u',\n",
       "       'monoprix-bio', 'chabrior', 'fleury-michon', 'bonneterre', 'u-bio',\n",
       "       'eco', 'belle-france', 'harrys', 'gerble', 'toupargel',\n",
       "       'fruits-rouges-co', 'maison-montfort', 'lidl', 'milbona', 'blini',\n",
       "       'cora', 'solevita', 'asda', 'boni', 'saint-alby',\n",
       "       'saveurs-de-nos-regions', 'coop', 'migros', 'tendre-plus',\n",
       "       'delhaize', 'tropicana', 'lima', 'dia', 'grand-frais', 'aldi',\n",
       "       'socopa', 'daco-bello', 'volandry,marque-repere', 'bio-village',\n",
       "       'bio-village,marque-repere', 'maille', 'lustucru', 'd-aucy',\n",
       "       'petit-navire', 'cassegrain', 'jacquet', 'maggi', 'activia',\n",
       "       'ferrero', 'delpierre', 'bigard', 'delpeyrat', 'teisseire',\n",
       "       'larnaudie', 'eric-bur', 'sainte-lucie', 'albert-menes',\n",
       "       'saupiquet', 'ducros', 'candia', 'vahine', 'paysan-breton',\n",
       "       'en-cuisine', 'casino-bio,casino', 'grand-jury',\n",
       "       'reflets-de-france', 'carrefour-bio,carrefour', 'monoprix-gourmet',\n",
       "       'itineraire-des-saveurs', 'bouton-d-or', 'netto', 'marque-repere',\n",
       "       'amora', 'haribo', 'u-bio,u', 'mccain', 'leaderprice',\n",
       "       'saint-jean', 'guyader', 'schweppes', 'moulin-des-moines',\n",
       "       'coteaux-nantais', 'jardin-biologique', 'meme-helene',\n",
       "       'les-comtes-de-provence', 'st-hubert', 'u-saveurs,u', 'top-budget',\n",
       "       'danival', 'ethiquable', 'rochambeau', 'co', 'lea-nature',\n",
       "       'nos-regions-ont-du-talent', 'nos-regions-ont-du-talent,leclerc',\n",
       "       'aptonia', 'bonne-maman', 'kidi-fruit,andros', 'la-belle-iloise',\n",
       "       'comtesse-du-barry', 'domaine-picard', 'rapunzel', 'alnatura',\n",
       "       'hipp', 'waitrose', 'innocent', 'myprotein', 'spar', 'knorr',\n",
       "       'prozis', 'biotechusa', 'president', 'ricola', 'herta', 'lu',\n",
       "       'sacla', 'de-cecco', 'selex', 'conad', 'divella', 'il-gigante',\n",
       "       'albert-heijn', 'nutricia', 'body-fit', 'dr-oetker'], dtype=object)"
      ]
     },
     "execution_count": 147,
     "metadata": {},
     "output_type": "execute_result"
    }
   ],
   "source": [
    "marques_nutriscore_A = mixed_clean_500.loc[mixed_clean['nutriscore_grade'] == 'a', 'brands_tags'].unique()\n",
    "marques_nutriscore_A\n",
    "# on isole toutes marques ayant un nutriscore de A"
   ]
  },
  {
   "cell_type": "code",
   "execution_count": 148,
   "id": "4181eeac-0bbe-42d5-864e-e6014dd54159",
   "metadata": {},
   "outputs": [
    {
     "data": {
      "text/html": [
       "<div>\n",
       "<style scoped>\n",
       "    .dataframe tbody tr th:only-of-type {\n",
       "        vertical-align: middle;\n",
       "    }\n",
       "\n",
       "    .dataframe tbody tr th {\n",
       "        vertical-align: top;\n",
       "    }\n",
       "\n",
       "    .dataframe thead th {\n",
       "        text-align: right;\n",
       "    }\n",
       "</style>\n",
       "<table border=\"1\" class=\"dataframe\">\n",
       "  <thead>\n",
       "    <tr style=\"text-align: right;\">\n",
       "      <th></th>\n",
       "      <th>marque</th>\n",
       "    </tr>\n",
       "  </thead>\n",
       "  <tbody>\n",
       "    <tr>\n",
       "      <th>0</th>\n",
       "      <td>danone</td>\n",
       "    </tr>\n",
       "    <tr>\n",
       "      <th>1</th>\n",
       "      <td>le-gaulois</td>\n",
       "    </tr>\n",
       "    <tr>\n",
       "      <th>2</th>\n",
       "      <td>trader-joe-s</td>\n",
       "    </tr>\n",
       "    <tr>\n",
       "      <th>3</th>\n",
       "      <td>marks-spencer</td>\n",
       "    </tr>\n",
       "    <tr>\n",
       "      <th>4</th>\n",
       "      <td>monoprix</td>\n",
       "    </tr>\n",
       "    <tr>\n",
       "      <th>...</th>\n",
       "      <td>...</td>\n",
       "    </tr>\n",
       "    <tr>\n",
       "      <th>173</th>\n",
       "      <td>il-gigante</td>\n",
       "    </tr>\n",
       "    <tr>\n",
       "      <th>174</th>\n",
       "      <td>albert-heijn</td>\n",
       "    </tr>\n",
       "    <tr>\n",
       "      <th>175</th>\n",
       "      <td>nutricia</td>\n",
       "    </tr>\n",
       "    <tr>\n",
       "      <th>176</th>\n",
       "      <td>body-fit</td>\n",
       "    </tr>\n",
       "    <tr>\n",
       "      <th>177</th>\n",
       "      <td>dr-oetker</td>\n",
       "    </tr>\n",
       "  </tbody>\n",
       "</table>\n",
       "<p>178 rows × 1 columns</p>\n",
       "</div>"
      ],
      "text/plain": [
       "            marque\n",
       "0           danone\n",
       "1       le-gaulois\n",
       "2     trader-joe-s\n",
       "3    marks-spencer\n",
       "4         monoprix\n",
       "..             ...\n",
       "173     il-gigante\n",
       "174   albert-heijn\n",
       "175       nutricia\n",
       "176       body-fit\n",
       "177      dr-oetker\n",
       "\n",
       "[178 rows x 1 columns]"
      ]
     },
     "execution_count": 148,
     "metadata": {},
     "output_type": "execute_result"
    }
   ],
   "source": [
    "marques_nutriscore_A_df = pd.DataFrame({'marque': marques_nutriscore_A})\n",
    "marques_nutriscore_A_df"
   ]
  },
  {
   "cell_type": "code",
   "execution_count": 149,
   "id": "82b5b061-1aeb-41b9-95c5-84e7b7746abc",
   "metadata": {},
   "outputs": [
    {
     "data": {
      "text/plain": [
       "brands_tags\n",
       "la-nouvelle-agriculture    84734\n",
       "le-gaulois                 14246\n",
       "auchan                      6713\n",
       "charal                      6694\n",
       "carrefour                   3478\n",
       "                           ...  \n",
       "lu                             1\n",
       "president                      1\n",
       "saint-alby                     1\n",
       "domaine-picard                 1\n",
       "dr-oetker                      1\n",
       "Name: count, Length: 178, dtype: int64"
      ]
     },
     "execution_count": 149,
     "metadata": {},
     "output_type": "execute_result"
    }
   ],
   "source": [
    "marques_nutriscore_A_counts = mixed_clean_500.loc[mixed_clean['nutriscore_grade'] == 'a', 'brands_tags'].value_counts()\n",
    "marques_nutriscore_A_counts\n",
    "# on compte le nombre de produit ayant un nutriscore A pour chaque marque "
   ]
  },
  {
   "cell_type": "code",
   "execution_count": 60,
   "id": "198702c9-cc7c-4254-8d3e-19d1352a5ddd",
   "metadata": {},
   "outputs": [
    {
     "data": {
      "text/plain": [
       "'la-nouvelle-agriculture'"
      ]
     },
     "execution_count": 60,
     "metadata": {},
     "output_type": "execute_result"
    }
   ],
   "source": [
    "marque_max_produits_A = marques_nutriscore_A_counts.idxmax()\n",
    "marque_max_produits_A"
   ]
  },
  {
   "cell_type": "code",
   "execution_count": 64,
   "id": "28e6fa2b-6db8-495c-91cc-cd59a01d08d8",
   "metadata": {},
   "outputs": [
    {
     "data": {
      "text/plain": [
       "brands_tags\n",
       "carrefour                  679609\n",
       "le-gaulois                 152181\n",
       "la-nouvelle-agriculture    127719\n",
       "auchan                      33744\n",
       "charal                      27048\n",
       "                            ...  \n",
       "biovillage                    514\n",
       "aptonia                       512\n",
       "pago                          511\n",
       "solevita                      507\n",
       "cassegrain                    502\n",
       "Name: count, Length: 240, dtype: int64"
      ]
     },
     "execution_count": 64,
     "metadata": {},
     "output_type": "execute_result"
    }
   ],
   "source": [
    "nombre_total_produits_par_marque = mixed_clean_500['brands_tags'].value_counts()\n",
    "nombre_total_produits_par_marque"
   ]
  },
  {
   "cell_type": "code",
   "execution_count": 80,
   "id": "49fc31e3-e3b6-4c5d-b902-5303c7f8fc17",
   "metadata": {
    "scrolled": true
   },
   "outputs": [
    {
     "data": {
      "text/plain": [
       "brands_tags\n",
       "la-nouvelle-agriculture    66.344083\n",
       "cassegrain                 64.342629\n",
       "cereal-bio                 63.899868\n",
       "d-aucy                     58.991597\n",
       "evian                      43.881119\n",
       "                             ...    \n",
       "nivea                       0.000000\n",
       "nespresso                   0.000000\n",
       "nescafe                     0.000000\n",
       "hiruak                      0.000000\n",
       "le-comptoir-de-mathilde     0.000000\n",
       "Name: count, Length: 240, dtype: float64"
      ]
     },
     "execution_count": 80,
     "metadata": {},
     "output_type": "execute_result"
    }
   ],
   "source": [
    "proportion_nutriscore_A_par_marque = (marques_nutriscore_A_counts* 100 / nombre_total_produits_par_marque).fillna(0)\n",
    "proportion_nutriscore_A_par_marque.sort_values(ascending = False)"
   ]
  },
  {
   "cell_type": "code",
   "execution_count": 93,
   "id": "68303864-4e1b-4a51-b678-0c458aa1b4e2",
   "metadata": {},
   "outputs": [
    {
     "data": {
      "text/plain": [
       "brands_tags\n",
       "la-nouvelle-agriculture    66.344083\n",
       "cassegrain                 64.342629\n",
       "cereal-bio                 63.899868\n",
       "d-aucy                     58.991597\n",
       "evian                      43.881119\n",
       "markal                     41.430700\n",
       "saint-eloi                 40.300375\n",
       "bonduelle                  36.534653\n",
       "foodspring                 35.130112\n",
       "perrier                    34.196617\n",
       "Name: count, dtype: float64"
      ]
     },
     "execution_count": 93,
     "metadata": {},
     "output_type": "execute_result"
    }
   ],
   "source": [
    "meilleur_marque = proportion_nutriscore_A_par_marque.sort_values(ascending = False).head(10)\n",
    "meilleur_marque"
   ]
  },
  {
   "cell_type": "code",
   "execution_count": 115,
   "id": "683d6027-f07e-4f1b-af89-75cba17a467c",
   "metadata": {},
   "outputs": [],
   "source": [
    "import plotly.graph_objects as go\n",
    "import plotly.express as px \n"
   ]
  },
  {
   "cell_type": "code",
   "execution_count": 81,
   "id": "8fe061a5-f913-42f7-9429-38dacafee688",
   "metadata": {},
   "outputs": [
    {
     "data": {
      "text/plain": [
       "brands_tags\n",
       "activia                    1.721311\n",
       "albert-heijn               2.171137\n",
       "albert-menes               1.814882\n",
       "aldi                       1.438849\n",
       "alnatura                   7.645631\n",
       "                            ...    \n",
       "vahine                     4.991948\n",
       "volandry,marque-repere     5.154639\n",
       "volvic                    11.558669\n",
       "waitrose                   3.517588\n",
       "yoplait                    5.710910\n",
       "Name: count, Length: 178, dtype: float64"
      ]
     },
     "execution_count": 81,
     "metadata": {},
     "output_type": "execute_result"
    }
   ],
   "source": [
    "marques_nutriscore_A_proportion = proportion_nutriscore_A_par_marque[proportion_nutriscore_A_par_marque > 0]\n",
    "marques_nutriscore_A_proportion"
   ]
  },
  {
   "cell_type": "code",
   "execution_count": 143,
   "id": "d69ed90d-620e-4c60-97b6-6308c2988458",
   "metadata": {},
   "outputs": [
    {
     "data": {
      "text/html": [
       "<div>\n",
       "<style scoped>\n",
       "    .dataframe tbody tr th:only-of-type {\n",
       "        vertical-align: middle;\n",
       "    }\n",
       "\n",
       "    .dataframe tbody tr th {\n",
       "        vertical-align: top;\n",
       "    }\n",
       "\n",
       "    .dataframe thead th {\n",
       "        text-align: right;\n",
       "    }\n",
       "</style>\n",
       "<table border=\"1\" class=\"dataframe\">\n",
       "  <thead>\n",
       "    <tr style=\"text-align: right;\">\n",
       "      <th></th>\n",
       "      <th>brands_tags</th>\n",
       "      <th>count</th>\n",
       "    </tr>\n",
       "  </thead>\n",
       "  <tbody>\n",
       "    <tr>\n",
       "      <th>0</th>\n",
       "      <td>perrier</td>\n",
       "      <td>34.196617</td>\n",
       "    </tr>\n",
       "    <tr>\n",
       "      <th>1</th>\n",
       "      <td>foodspring</td>\n",
       "      <td>35.130112</td>\n",
       "    </tr>\n",
       "    <tr>\n",
       "      <th>2</th>\n",
       "      <td>bonduelle</td>\n",
       "      <td>36.534653</td>\n",
       "    </tr>\n",
       "    <tr>\n",
       "      <th>3</th>\n",
       "      <td>saint-eloi</td>\n",
       "      <td>40.300375</td>\n",
       "    </tr>\n",
       "    <tr>\n",
       "      <th>4</th>\n",
       "      <td>markal</td>\n",
       "      <td>41.430700</td>\n",
       "    </tr>\n",
       "    <tr>\n",
       "      <th>5</th>\n",
       "      <td>evian</td>\n",
       "      <td>43.881119</td>\n",
       "    </tr>\n",
       "    <tr>\n",
       "      <th>6</th>\n",
       "      <td>d-aucy</td>\n",
       "      <td>58.991597</td>\n",
       "    </tr>\n",
       "    <tr>\n",
       "      <th>7</th>\n",
       "      <td>cereal-bio</td>\n",
       "      <td>63.899868</td>\n",
       "    </tr>\n",
       "    <tr>\n",
       "      <th>8</th>\n",
       "      <td>cassegrain</td>\n",
       "      <td>64.342629</td>\n",
       "    </tr>\n",
       "    <tr>\n",
       "      <th>9</th>\n",
       "      <td>la-nouvelle-agriculture</td>\n",
       "      <td>66.344083</td>\n",
       "    </tr>\n",
       "  </tbody>\n",
       "</table>\n",
       "</div>"
      ],
      "text/plain": [
       "               brands_tags      count\n",
       "0                  perrier  34.196617\n",
       "1               foodspring  35.130112\n",
       "2                bonduelle  36.534653\n",
       "3               saint-eloi  40.300375\n",
       "4                   markal  41.430700\n",
       "5                    evian  43.881119\n",
       "6                   d-aucy  58.991597\n",
       "7               cereal-bio  63.899868\n",
       "8               cassegrain  64.342629\n",
       "9  la-nouvelle-agriculture  66.344083"
      ]
     },
     "execution_count": 143,
     "metadata": {},
     "output_type": "execute_result"
    }
   ],
   "source": [
    "marques_nutriscore_A_proportion_sorted = marques_nutriscore_A_proportion.sort_values(ascending=False).head(10).sort_values(ascending = True)\n",
    "marques_nutriscore_A_proportion_sorted = pd.DataFrame(marques_nutriscore_A_proportion_sorted).reset_index()\n",
    "marques_nutriscore_A_proportion_sorted\n",
    "\n"
   ]
  },
  {
   "cell_type": "code",
   "execution_count": 146,
   "id": "82cb2ed0-b5d3-46cf-b407-f8f0143cdf89",
   "metadata": {},
   "outputs": [
    {
     "data": {
      "application/vnd.plotly.v1+json": {
       "config": {
        "plotlyServerURL": "https://plot.ly"
       },
       "data": [
        {
         "alignmentgroup": "True",
         "hovertemplate": "count=%{x}<br>brands_tags=%{y}<extra></extra>",
         "legendgroup": "",
         "marker": {
          "color": "#636efa",
          "pattern": {
           "shape": ""
          }
         },
         "name": "",
         "offsetgroup": "",
         "orientation": "h",
         "showlegend": false,
         "textposition": "auto",
         "type": "bar",
         "x": [
          34.19661733615222,
          35.13011152416357,
          36.53465346534654,
          40.30037546933667,
          41.43070044709389,
          43.88111888111888,
          58.99159663865546,
          63.899868247694336,
          64.34262948207171,
          66.34408349579937
         ],
         "xaxis": "x",
         "y": [
          "perrier",
          "foodspring",
          "bonduelle",
          "saint-eloi",
          "markal",
          "evian",
          "d-aucy",
          "cereal-bio",
          "cassegrain",
          "la-nouvelle-agriculture"
         ],
         "yaxis": "y"
        }
       ],
       "layout": {
        "autosize": true,
        "barmode": "relative",
        "legend": {
         "tracegroupgap": 0
        },
        "margin": {
         "t": 60
        },
        "template": {
         "data": {
          "bar": [
           {
            "error_x": {
             "color": "#2a3f5f"
            },
            "error_y": {
             "color": "#2a3f5f"
            },
            "marker": {
             "line": {
              "color": "#E5ECF6",
              "width": 0.5
             },
             "pattern": {
              "fillmode": "overlay",
              "size": 10,
              "solidity": 0.2
             }
            },
            "type": "bar"
           }
          ],
          "barpolar": [
           {
            "marker": {
             "line": {
              "color": "#E5ECF6",
              "width": 0.5
             },
             "pattern": {
              "fillmode": "overlay",
              "size": 10,
              "solidity": 0.2
             }
            },
            "type": "barpolar"
           }
          ],
          "carpet": [
           {
            "aaxis": {
             "endlinecolor": "#2a3f5f",
             "gridcolor": "white",
             "linecolor": "white",
             "minorgridcolor": "white",
             "startlinecolor": "#2a3f5f"
            },
            "baxis": {
             "endlinecolor": "#2a3f5f",
             "gridcolor": "white",
             "linecolor": "white",
             "minorgridcolor": "white",
             "startlinecolor": "#2a3f5f"
            },
            "type": "carpet"
           }
          ],
          "choropleth": [
           {
            "colorbar": {
             "outlinewidth": 0,
             "ticks": ""
            },
            "type": "choropleth"
           }
          ],
          "contour": [
           {
            "colorbar": {
             "outlinewidth": 0,
             "ticks": ""
            },
            "colorscale": [
             [
              0,
              "#0d0887"
             ],
             [
              0.1111111111111111,
              "#46039f"
             ],
             [
              0.2222222222222222,
              "#7201a8"
             ],
             [
              0.3333333333333333,
              "#9c179e"
             ],
             [
              0.4444444444444444,
              "#bd3786"
             ],
             [
              0.5555555555555556,
              "#d8576b"
             ],
             [
              0.6666666666666666,
              "#ed7953"
             ],
             [
              0.7777777777777778,
              "#fb9f3a"
             ],
             [
              0.8888888888888888,
              "#fdca26"
             ],
             [
              1,
              "#f0f921"
             ]
            ],
            "type": "contour"
           }
          ],
          "contourcarpet": [
           {
            "colorbar": {
             "outlinewidth": 0,
             "ticks": ""
            },
            "type": "contourcarpet"
           }
          ],
          "heatmap": [
           {
            "colorbar": {
             "outlinewidth": 0,
             "ticks": ""
            },
            "colorscale": [
             [
              0,
              "#0d0887"
             ],
             [
              0.1111111111111111,
              "#46039f"
             ],
             [
              0.2222222222222222,
              "#7201a8"
             ],
             [
              0.3333333333333333,
              "#9c179e"
             ],
             [
              0.4444444444444444,
              "#bd3786"
             ],
             [
              0.5555555555555556,
              "#d8576b"
             ],
             [
              0.6666666666666666,
              "#ed7953"
             ],
             [
              0.7777777777777778,
              "#fb9f3a"
             ],
             [
              0.8888888888888888,
              "#fdca26"
             ],
             [
              1,
              "#f0f921"
             ]
            ],
            "type": "heatmap"
           }
          ],
          "heatmapgl": [
           {
            "colorbar": {
             "outlinewidth": 0,
             "ticks": ""
            },
            "colorscale": [
             [
              0,
              "#0d0887"
             ],
             [
              0.1111111111111111,
              "#46039f"
             ],
             [
              0.2222222222222222,
              "#7201a8"
             ],
             [
              0.3333333333333333,
              "#9c179e"
             ],
             [
              0.4444444444444444,
              "#bd3786"
             ],
             [
              0.5555555555555556,
              "#d8576b"
             ],
             [
              0.6666666666666666,
              "#ed7953"
             ],
             [
              0.7777777777777778,
              "#fb9f3a"
             ],
             [
              0.8888888888888888,
              "#fdca26"
             ],
             [
              1,
              "#f0f921"
             ]
            ],
            "type": "heatmapgl"
           }
          ],
          "histogram": [
           {
            "marker": {
             "pattern": {
              "fillmode": "overlay",
              "size": 10,
              "solidity": 0.2
             }
            },
            "type": "histogram"
           }
          ],
          "histogram2d": [
           {
            "colorbar": {
             "outlinewidth": 0,
             "ticks": ""
            },
            "colorscale": [
             [
              0,
              "#0d0887"
             ],
             [
              0.1111111111111111,
              "#46039f"
             ],
             [
              0.2222222222222222,
              "#7201a8"
             ],
             [
              0.3333333333333333,
              "#9c179e"
             ],
             [
              0.4444444444444444,
              "#bd3786"
             ],
             [
              0.5555555555555556,
              "#d8576b"
             ],
             [
              0.6666666666666666,
              "#ed7953"
             ],
             [
              0.7777777777777778,
              "#fb9f3a"
             ],
             [
              0.8888888888888888,
              "#fdca26"
             ],
             [
              1,
              "#f0f921"
             ]
            ],
            "type": "histogram2d"
           }
          ],
          "histogram2dcontour": [
           {
            "colorbar": {
             "outlinewidth": 0,
             "ticks": ""
            },
            "colorscale": [
             [
              0,
              "#0d0887"
             ],
             [
              0.1111111111111111,
              "#46039f"
             ],
             [
              0.2222222222222222,
              "#7201a8"
             ],
             [
              0.3333333333333333,
              "#9c179e"
             ],
             [
              0.4444444444444444,
              "#bd3786"
             ],
             [
              0.5555555555555556,
              "#d8576b"
             ],
             [
              0.6666666666666666,
              "#ed7953"
             ],
             [
              0.7777777777777778,
              "#fb9f3a"
             ],
             [
              0.8888888888888888,
              "#fdca26"
             ],
             [
              1,
              "#f0f921"
             ]
            ],
            "type": "histogram2dcontour"
           }
          ],
          "mesh3d": [
           {
            "colorbar": {
             "outlinewidth": 0,
             "ticks": ""
            },
            "type": "mesh3d"
           }
          ],
          "parcoords": [
           {
            "line": {
             "colorbar": {
              "outlinewidth": 0,
              "ticks": ""
             }
            },
            "type": "parcoords"
           }
          ],
          "pie": [
           {
            "automargin": true,
            "type": "pie"
           }
          ],
          "scatter": [
           {
            "fillpattern": {
             "fillmode": "overlay",
             "size": 10,
             "solidity": 0.2
            },
            "type": "scatter"
           }
          ],
          "scatter3d": [
           {
            "line": {
             "colorbar": {
              "outlinewidth": 0,
              "ticks": ""
             }
            },
            "marker": {
             "colorbar": {
              "outlinewidth": 0,
              "ticks": ""
             }
            },
            "type": "scatter3d"
           }
          ],
          "scattercarpet": [
           {
            "marker": {
             "colorbar": {
              "outlinewidth": 0,
              "ticks": ""
             }
            },
            "type": "scattercarpet"
           }
          ],
          "scattergeo": [
           {
            "marker": {
             "colorbar": {
              "outlinewidth": 0,
              "ticks": ""
             }
            },
            "type": "scattergeo"
           }
          ],
          "scattergl": [
           {
            "marker": {
             "colorbar": {
              "outlinewidth": 0,
              "ticks": ""
             }
            },
            "type": "scattergl"
           }
          ],
          "scattermapbox": [
           {
            "marker": {
             "colorbar": {
              "outlinewidth": 0,
              "ticks": ""
             }
            },
            "type": "scattermapbox"
           }
          ],
          "scatterpolar": [
           {
            "marker": {
             "colorbar": {
              "outlinewidth": 0,
              "ticks": ""
             }
            },
            "type": "scatterpolar"
           }
          ],
          "scatterpolargl": [
           {
            "marker": {
             "colorbar": {
              "outlinewidth": 0,
              "ticks": ""
             }
            },
            "type": "scatterpolargl"
           }
          ],
          "scatterternary": [
           {
            "marker": {
             "colorbar": {
              "outlinewidth": 0,
              "ticks": ""
             }
            },
            "type": "scatterternary"
           }
          ],
          "surface": [
           {
            "colorbar": {
             "outlinewidth": 0,
             "ticks": ""
            },
            "colorscale": [
             [
              0,
              "#0d0887"
             ],
             [
              0.1111111111111111,
              "#46039f"
             ],
             [
              0.2222222222222222,
              "#7201a8"
             ],
             [
              0.3333333333333333,
              "#9c179e"
             ],
             [
              0.4444444444444444,
              "#bd3786"
             ],
             [
              0.5555555555555556,
              "#d8576b"
             ],
             [
              0.6666666666666666,
              "#ed7953"
             ],
             [
              0.7777777777777778,
              "#fb9f3a"
             ],
             [
              0.8888888888888888,
              "#fdca26"
             ],
             [
              1,
              "#f0f921"
             ]
            ],
            "type": "surface"
           }
          ],
          "table": [
           {
            "cells": {
             "fill": {
              "color": "#EBF0F8"
             },
             "line": {
              "color": "white"
             }
            },
            "header": {
             "fill": {
              "color": "#C8D4E3"
             },
             "line": {
              "color": "white"
             }
            },
            "type": "table"
           }
          ]
         },
         "layout": {
          "annotationdefaults": {
           "arrowcolor": "#2a3f5f",
           "arrowhead": 0,
           "arrowwidth": 1
          },
          "autotypenumbers": "strict",
          "coloraxis": {
           "colorbar": {
            "outlinewidth": 0,
            "ticks": ""
           }
          },
          "colorscale": {
           "diverging": [
            [
             0,
             "#8e0152"
            ],
            [
             0.1,
             "#c51b7d"
            ],
            [
             0.2,
             "#de77ae"
            ],
            [
             0.3,
             "#f1b6da"
            ],
            [
             0.4,
             "#fde0ef"
            ],
            [
             0.5,
             "#f7f7f7"
            ],
            [
             0.6,
             "#e6f5d0"
            ],
            [
             0.7,
             "#b8e186"
            ],
            [
             0.8,
             "#7fbc41"
            ],
            [
             0.9,
             "#4d9221"
            ],
            [
             1,
             "#276419"
            ]
           ],
           "sequential": [
            [
             0,
             "#0d0887"
            ],
            [
             0.1111111111111111,
             "#46039f"
            ],
            [
             0.2222222222222222,
             "#7201a8"
            ],
            [
             0.3333333333333333,
             "#9c179e"
            ],
            [
             0.4444444444444444,
             "#bd3786"
            ],
            [
             0.5555555555555556,
             "#d8576b"
            ],
            [
             0.6666666666666666,
             "#ed7953"
            ],
            [
             0.7777777777777778,
             "#fb9f3a"
            ],
            [
             0.8888888888888888,
             "#fdca26"
            ],
            [
             1,
             "#f0f921"
            ]
           ],
           "sequentialminus": [
            [
             0,
             "#0d0887"
            ],
            [
             0.1111111111111111,
             "#46039f"
            ],
            [
             0.2222222222222222,
             "#7201a8"
            ],
            [
             0.3333333333333333,
             "#9c179e"
            ],
            [
             0.4444444444444444,
             "#bd3786"
            ],
            [
             0.5555555555555556,
             "#d8576b"
            ],
            [
             0.6666666666666666,
             "#ed7953"
            ],
            [
             0.7777777777777778,
             "#fb9f3a"
            ],
            [
             0.8888888888888888,
             "#fdca26"
            ],
            [
             1,
             "#f0f921"
            ]
           ]
          },
          "colorway": [
           "#636efa",
           "#EF553B",
           "#00cc96",
           "#ab63fa",
           "#FFA15A",
           "#19d3f3",
           "#FF6692",
           "#B6E880",
           "#FF97FF",
           "#FECB52"
          ],
          "font": {
           "color": "#2a3f5f"
          },
          "geo": {
           "bgcolor": "white",
           "lakecolor": "white",
           "landcolor": "#E5ECF6",
           "showlakes": true,
           "showland": true,
           "subunitcolor": "white"
          },
          "hoverlabel": {
           "align": "left"
          },
          "hovermode": "closest",
          "mapbox": {
           "style": "light"
          },
          "paper_bgcolor": "white",
          "plot_bgcolor": "#E5ECF6",
          "polar": {
           "angularaxis": {
            "gridcolor": "white",
            "linecolor": "white",
            "ticks": ""
           },
           "bgcolor": "#E5ECF6",
           "radialaxis": {
            "gridcolor": "white",
            "linecolor": "white",
            "ticks": ""
           }
          },
          "scene": {
           "xaxis": {
            "backgroundcolor": "#E5ECF6",
            "gridcolor": "white",
            "gridwidth": 2,
            "linecolor": "white",
            "showbackground": true,
            "ticks": "",
            "zerolinecolor": "white"
           },
           "yaxis": {
            "backgroundcolor": "#E5ECF6",
            "gridcolor": "white",
            "gridwidth": 2,
            "linecolor": "white",
            "showbackground": true,
            "ticks": "",
            "zerolinecolor": "white"
           },
           "zaxis": {
            "backgroundcolor": "#E5ECF6",
            "gridcolor": "white",
            "gridwidth": 2,
            "linecolor": "white",
            "showbackground": true,
            "ticks": "",
            "zerolinecolor": "white"
           }
          },
          "shapedefaults": {
           "line": {
            "color": "#2a3f5f"
           }
          },
          "ternary": {
           "aaxis": {
            "gridcolor": "white",
            "linecolor": "white",
            "ticks": ""
           },
           "baxis": {
            "gridcolor": "white",
            "linecolor": "white",
            "ticks": ""
           },
           "bgcolor": "#E5ECF6",
           "caxis": {
            "gridcolor": "white",
            "linecolor": "white",
            "ticks": ""
           }
          },
          "title": {
           "x": 0.05
          },
          "xaxis": {
           "automargin": true,
           "gridcolor": "white",
           "linecolor": "white",
           "ticks": "",
           "title": {
            "standoff": 15
           },
           "zerolinecolor": "white",
           "zerolinewidth": 2
          },
          "yaxis": {
           "automargin": true,
           "gridcolor": "white",
           "linecolor": "white",
           "ticks": "",
           "title": {
            "standoff": 15
           },
           "zerolinecolor": "white",
           "zerolinewidth": 2
          }
         }
        },
        "xaxis": {
         "anchor": "y",
         "autorange": true,
         "domain": [
          0,
          1
         ],
         "range": [
          0,
          69.83587736399933
         ],
         "title": {
          "text": "count"
         },
         "type": "linear"
        },
        "yaxis": {
         "anchor": "x",
         "autorange": true,
         "domain": [
          0,
          1
         ],
         "range": [
          -0.5,
          9.5
         ],
         "title": {
          "text": "brands_tags"
         },
         "type": "category"
        }
       }
      },
      "text/html": [
       "<div>                            <div id=\"e28b63a5-a0c5-49cf-8ed8-1b3d3ce5075c\" class=\"plotly-graph-div\" style=\"height:525px; width:100%;\"></div>            <script type=\"text/javascript\">                require([\"plotly\"], function(Plotly) {                    window.PLOTLYENV=window.PLOTLYENV || {};                                    if (document.getElementById(\"e28b63a5-a0c5-49cf-8ed8-1b3d3ce5075c\")) {                    Plotly.newPlot(                        \"e28b63a5-a0c5-49cf-8ed8-1b3d3ce5075c\",                        [{\"alignmentgroup\":\"True\",\"hovertemplate\":\"count=%{x}\\u003cbr\\u003ebrands_tags=%{y}\\u003cextra\\u003e\\u003c\\u002fextra\\u003e\",\"legendgroup\":\"\",\"marker\":{\"color\":\"#636efa\",\"pattern\":{\"shape\":\"\"}},\"name\":\"\",\"offsetgroup\":\"\",\"orientation\":\"h\",\"showlegend\":false,\"textposition\":\"auto\",\"x\":[34.19661733615222,35.13011152416357,36.53465346534654,40.30037546933667,41.43070044709389,43.88111888111888,58.99159663865546,63.899868247694336,64.34262948207171,66.34408349579937],\"xaxis\":\"x\",\"y\":[\"perrier\",\"foodspring\",\"bonduelle\",\"saint-eloi\",\"markal\",\"evian\",\"d-aucy\",\"cereal-bio\",\"cassegrain\",\"la-nouvelle-agriculture\"],\"yaxis\":\"y\",\"type\":\"bar\"}],                        {\"template\":{\"data\":{\"histogram2dcontour\":[{\"type\":\"histogram2dcontour\",\"colorbar\":{\"outlinewidth\":0,\"ticks\":\"\"},\"colorscale\":[[0.0,\"#0d0887\"],[0.1111111111111111,\"#46039f\"],[0.2222222222222222,\"#7201a8\"],[0.3333333333333333,\"#9c179e\"],[0.4444444444444444,\"#bd3786\"],[0.5555555555555556,\"#d8576b\"],[0.6666666666666666,\"#ed7953\"],[0.7777777777777778,\"#fb9f3a\"],[0.8888888888888888,\"#fdca26\"],[1.0,\"#f0f921\"]]}],\"choropleth\":[{\"type\":\"choropleth\",\"colorbar\":{\"outlinewidth\":0,\"ticks\":\"\"}}],\"histogram2d\":[{\"type\":\"histogram2d\",\"colorbar\":{\"outlinewidth\":0,\"ticks\":\"\"},\"colorscale\":[[0.0,\"#0d0887\"],[0.1111111111111111,\"#46039f\"],[0.2222222222222222,\"#7201a8\"],[0.3333333333333333,\"#9c179e\"],[0.4444444444444444,\"#bd3786\"],[0.5555555555555556,\"#d8576b\"],[0.6666666666666666,\"#ed7953\"],[0.7777777777777778,\"#fb9f3a\"],[0.8888888888888888,\"#fdca26\"],[1.0,\"#f0f921\"]]}],\"heatmap\":[{\"type\":\"heatmap\",\"colorbar\":{\"outlinewidth\":0,\"ticks\":\"\"},\"colorscale\":[[0.0,\"#0d0887\"],[0.1111111111111111,\"#46039f\"],[0.2222222222222222,\"#7201a8\"],[0.3333333333333333,\"#9c179e\"],[0.4444444444444444,\"#bd3786\"],[0.5555555555555556,\"#d8576b\"],[0.6666666666666666,\"#ed7953\"],[0.7777777777777778,\"#fb9f3a\"],[0.8888888888888888,\"#fdca26\"],[1.0,\"#f0f921\"]]}],\"heatmapgl\":[{\"type\":\"heatmapgl\",\"colorbar\":{\"outlinewidth\":0,\"ticks\":\"\"},\"colorscale\":[[0.0,\"#0d0887\"],[0.1111111111111111,\"#46039f\"],[0.2222222222222222,\"#7201a8\"],[0.3333333333333333,\"#9c179e\"],[0.4444444444444444,\"#bd3786\"],[0.5555555555555556,\"#d8576b\"],[0.6666666666666666,\"#ed7953\"],[0.7777777777777778,\"#fb9f3a\"],[0.8888888888888888,\"#fdca26\"],[1.0,\"#f0f921\"]]}],\"contourcarpet\":[{\"type\":\"contourcarpet\",\"colorbar\":{\"outlinewidth\":0,\"ticks\":\"\"}}],\"contour\":[{\"type\":\"contour\",\"colorbar\":{\"outlinewidth\":0,\"ticks\":\"\"},\"colorscale\":[[0.0,\"#0d0887\"],[0.1111111111111111,\"#46039f\"],[0.2222222222222222,\"#7201a8\"],[0.3333333333333333,\"#9c179e\"],[0.4444444444444444,\"#bd3786\"],[0.5555555555555556,\"#d8576b\"],[0.6666666666666666,\"#ed7953\"],[0.7777777777777778,\"#fb9f3a\"],[0.8888888888888888,\"#fdca26\"],[1.0,\"#f0f921\"]]}],\"surface\":[{\"type\":\"surface\",\"colorbar\":{\"outlinewidth\":0,\"ticks\":\"\"},\"colorscale\":[[0.0,\"#0d0887\"],[0.1111111111111111,\"#46039f\"],[0.2222222222222222,\"#7201a8\"],[0.3333333333333333,\"#9c179e\"],[0.4444444444444444,\"#bd3786\"],[0.5555555555555556,\"#d8576b\"],[0.6666666666666666,\"#ed7953\"],[0.7777777777777778,\"#fb9f3a\"],[0.8888888888888888,\"#fdca26\"],[1.0,\"#f0f921\"]]}],\"mesh3d\":[{\"type\":\"mesh3d\",\"colorbar\":{\"outlinewidth\":0,\"ticks\":\"\"}}],\"scatter\":[{\"fillpattern\":{\"fillmode\":\"overlay\",\"size\":10,\"solidity\":0.2},\"type\":\"scatter\"}],\"parcoords\":[{\"type\":\"parcoords\",\"line\":{\"colorbar\":{\"outlinewidth\":0,\"ticks\":\"\"}}}],\"scatterpolargl\":[{\"type\":\"scatterpolargl\",\"marker\":{\"colorbar\":{\"outlinewidth\":0,\"ticks\":\"\"}}}],\"bar\":[{\"error_x\":{\"color\":\"#2a3f5f\"},\"error_y\":{\"color\":\"#2a3f5f\"},\"marker\":{\"line\":{\"color\":\"#E5ECF6\",\"width\":0.5},\"pattern\":{\"fillmode\":\"overlay\",\"size\":10,\"solidity\":0.2}},\"type\":\"bar\"}],\"scattergeo\":[{\"type\":\"scattergeo\",\"marker\":{\"colorbar\":{\"outlinewidth\":0,\"ticks\":\"\"}}}],\"scatterpolar\":[{\"type\":\"scatterpolar\",\"marker\":{\"colorbar\":{\"outlinewidth\":0,\"ticks\":\"\"}}}],\"histogram\":[{\"marker\":{\"pattern\":{\"fillmode\":\"overlay\",\"size\":10,\"solidity\":0.2}},\"type\":\"histogram\"}],\"scattergl\":[{\"type\":\"scattergl\",\"marker\":{\"colorbar\":{\"outlinewidth\":0,\"ticks\":\"\"}}}],\"scatter3d\":[{\"type\":\"scatter3d\",\"line\":{\"colorbar\":{\"outlinewidth\":0,\"ticks\":\"\"}},\"marker\":{\"colorbar\":{\"outlinewidth\":0,\"ticks\":\"\"}}}],\"scattermapbox\":[{\"type\":\"scattermapbox\",\"marker\":{\"colorbar\":{\"outlinewidth\":0,\"ticks\":\"\"}}}],\"scatterternary\":[{\"type\":\"scatterternary\",\"marker\":{\"colorbar\":{\"outlinewidth\":0,\"ticks\":\"\"}}}],\"scattercarpet\":[{\"type\":\"scattercarpet\",\"marker\":{\"colorbar\":{\"outlinewidth\":0,\"ticks\":\"\"}}}],\"carpet\":[{\"aaxis\":{\"endlinecolor\":\"#2a3f5f\",\"gridcolor\":\"white\",\"linecolor\":\"white\",\"minorgridcolor\":\"white\",\"startlinecolor\":\"#2a3f5f\"},\"baxis\":{\"endlinecolor\":\"#2a3f5f\",\"gridcolor\":\"white\",\"linecolor\":\"white\",\"minorgridcolor\":\"white\",\"startlinecolor\":\"#2a3f5f\"},\"type\":\"carpet\"}],\"table\":[{\"cells\":{\"fill\":{\"color\":\"#EBF0F8\"},\"line\":{\"color\":\"white\"}},\"header\":{\"fill\":{\"color\":\"#C8D4E3\"},\"line\":{\"color\":\"white\"}},\"type\":\"table\"}],\"barpolar\":[{\"marker\":{\"line\":{\"color\":\"#E5ECF6\",\"width\":0.5},\"pattern\":{\"fillmode\":\"overlay\",\"size\":10,\"solidity\":0.2}},\"type\":\"barpolar\"}],\"pie\":[{\"automargin\":true,\"type\":\"pie\"}]},\"layout\":{\"autotypenumbers\":\"strict\",\"colorway\":[\"#636efa\",\"#EF553B\",\"#00cc96\",\"#ab63fa\",\"#FFA15A\",\"#19d3f3\",\"#FF6692\",\"#B6E880\",\"#FF97FF\",\"#FECB52\"],\"font\":{\"color\":\"#2a3f5f\"},\"hovermode\":\"closest\",\"hoverlabel\":{\"align\":\"left\"},\"paper_bgcolor\":\"white\",\"plot_bgcolor\":\"#E5ECF6\",\"polar\":{\"bgcolor\":\"#E5ECF6\",\"angularaxis\":{\"gridcolor\":\"white\",\"linecolor\":\"white\",\"ticks\":\"\"},\"radialaxis\":{\"gridcolor\":\"white\",\"linecolor\":\"white\",\"ticks\":\"\"}},\"ternary\":{\"bgcolor\":\"#E5ECF6\",\"aaxis\":{\"gridcolor\":\"white\",\"linecolor\":\"white\",\"ticks\":\"\"},\"baxis\":{\"gridcolor\":\"white\",\"linecolor\":\"white\",\"ticks\":\"\"},\"caxis\":{\"gridcolor\":\"white\",\"linecolor\":\"white\",\"ticks\":\"\"}},\"coloraxis\":{\"colorbar\":{\"outlinewidth\":0,\"ticks\":\"\"}},\"colorscale\":{\"sequential\":[[0.0,\"#0d0887\"],[0.1111111111111111,\"#46039f\"],[0.2222222222222222,\"#7201a8\"],[0.3333333333333333,\"#9c179e\"],[0.4444444444444444,\"#bd3786\"],[0.5555555555555556,\"#d8576b\"],[0.6666666666666666,\"#ed7953\"],[0.7777777777777778,\"#fb9f3a\"],[0.8888888888888888,\"#fdca26\"],[1.0,\"#f0f921\"]],\"sequentialminus\":[[0.0,\"#0d0887\"],[0.1111111111111111,\"#46039f\"],[0.2222222222222222,\"#7201a8\"],[0.3333333333333333,\"#9c179e\"],[0.4444444444444444,\"#bd3786\"],[0.5555555555555556,\"#d8576b\"],[0.6666666666666666,\"#ed7953\"],[0.7777777777777778,\"#fb9f3a\"],[0.8888888888888888,\"#fdca26\"],[1.0,\"#f0f921\"]],\"diverging\":[[0,\"#8e0152\"],[0.1,\"#c51b7d\"],[0.2,\"#de77ae\"],[0.3,\"#f1b6da\"],[0.4,\"#fde0ef\"],[0.5,\"#f7f7f7\"],[0.6,\"#e6f5d0\"],[0.7,\"#b8e186\"],[0.8,\"#7fbc41\"],[0.9,\"#4d9221\"],[1,\"#276419\"]]},\"xaxis\":{\"gridcolor\":\"white\",\"linecolor\":\"white\",\"ticks\":\"\",\"title\":{\"standoff\":15},\"zerolinecolor\":\"white\",\"automargin\":true,\"zerolinewidth\":2},\"yaxis\":{\"gridcolor\":\"white\",\"linecolor\":\"white\",\"ticks\":\"\",\"title\":{\"standoff\":15},\"zerolinecolor\":\"white\",\"automargin\":true,\"zerolinewidth\":2},\"scene\":{\"xaxis\":{\"backgroundcolor\":\"#E5ECF6\",\"gridcolor\":\"white\",\"linecolor\":\"white\",\"showbackground\":true,\"ticks\":\"\",\"zerolinecolor\":\"white\",\"gridwidth\":2},\"yaxis\":{\"backgroundcolor\":\"#E5ECF6\",\"gridcolor\":\"white\",\"linecolor\":\"white\",\"showbackground\":true,\"ticks\":\"\",\"zerolinecolor\":\"white\",\"gridwidth\":2},\"zaxis\":{\"backgroundcolor\":\"#E5ECF6\",\"gridcolor\":\"white\",\"linecolor\":\"white\",\"showbackground\":true,\"ticks\":\"\",\"zerolinecolor\":\"white\",\"gridwidth\":2}},\"shapedefaults\":{\"line\":{\"color\":\"#2a3f5f\"}},\"annotationdefaults\":{\"arrowcolor\":\"#2a3f5f\",\"arrowhead\":0,\"arrowwidth\":1},\"geo\":{\"bgcolor\":\"white\",\"landcolor\":\"#E5ECF6\",\"subunitcolor\":\"white\",\"showland\":true,\"showlakes\":true,\"lakecolor\":\"white\"},\"title\":{\"x\":0.05},\"mapbox\":{\"style\":\"light\"}}},\"xaxis\":{\"anchor\":\"y\",\"domain\":[0.0,1.0],\"title\":{\"text\":\"count\"}},\"yaxis\":{\"anchor\":\"x\",\"domain\":[0.0,1.0],\"title\":{\"text\":\"brands_tags\"}},\"legend\":{\"tracegroupgap\":0},\"margin\":{\"t\":60},\"barmode\":\"relative\"},                        {\"responsive\": true}                    ).then(function(){\n",
       "                            \n",
       "var gd = document.getElementById('e28b63a5-a0c5-49cf-8ed8-1b3d3ce5075c');\n",
       "var x = new MutationObserver(function (mutations, observer) {{\n",
       "        var display = window.getComputedStyle(gd).display;\n",
       "        if (!display || display === 'none') {{\n",
       "            console.log([gd, 'removed!']);\n",
       "            Plotly.purge(gd);\n",
       "            observer.disconnect();\n",
       "        }}\n",
       "}});\n",
       "\n",
       "// Listen for the removal of the full notebook cells\n",
       "var notebookContainer = gd.closest('#notebook-container');\n",
       "if (notebookContainer) {{\n",
       "    x.observe(notebookContainer, {childList: true});\n",
       "}}\n",
       "\n",
       "// Listen for the clearing of the current output cell\n",
       "var outputEl = gd.closest('.output');\n",
       "if (outputEl) {{\n",
       "    x.observe(outputEl, {childList: true});\n",
       "}}\n",
       "\n",
       "                        })                };                });            </script>        </div>"
      ]
     },
     "metadata": {},
     "output_type": "display_data"
    }
   ],
   "source": [
    "fig = px.bar(marques_nutriscore_A_proportion_sorted, x = 'count', y = 'brands_tags')\n",
    "fig.show()"
   ]
  },
  {
   "cell_type": "markdown",
   "id": "9711a700-43ae-4013-8189-f5bd0c3bfdc9",
   "metadata": {},
   "source": [
    "## Observe-t-on une corrélation entre le caratère bio des produits et l'aspect envionnemental ?\r\n"
   ]
  },
  {
   "cell_type": "code",
   "execution_count": 130,
   "id": "cf1fa099-a2a6-4236-a903-1271fdf15512",
   "metadata": {},
   "outputs": [
    {
     "data": {
      "text/html": [
       "<div>\n",
       "<style scoped>\n",
       "    .dataframe tbody tr th:only-of-type {\n",
       "        vertical-align: middle;\n",
       "    }\n",
       "\n",
       "    .dataframe tbody tr th {\n",
       "        vertical-align: top;\n",
       "    }\n",
       "\n",
       "    .dataframe thead th {\n",
       "        text-align: right;\n",
       "    }\n",
       "</style>\n",
       "<table border=\"1\" class=\"dataframe\">\n",
       "  <thead>\n",
       "    <tr style=\"text-align: right;\">\n",
       "      <th>est_plastique</th>\n",
       "      <th>False</th>\n",
       "      <th>True</th>\n",
       "      <th>Total</th>\n",
       "    </tr>\n",
       "    <tr>\n",
       "      <th>est_bio</th>\n",
       "      <th></th>\n",
       "      <th></th>\n",
       "      <th></th>\n",
       "    </tr>\n",
       "  </thead>\n",
       "  <tbody>\n",
       "    <tr>\n",
       "      <th>False</th>\n",
       "      <td>1677057</td>\n",
       "      <td>124247</td>\n",
       "      <td>1801304</td>\n",
       "    </tr>\n",
       "    <tr>\n",
       "      <th>True</th>\n",
       "      <td>126867</td>\n",
       "      <td>18763</td>\n",
       "      <td>145630</td>\n",
       "    </tr>\n",
       "    <tr>\n",
       "      <th>Total</th>\n",
       "      <td>1803924</td>\n",
       "      <td>143010</td>\n",
       "      <td>1946934</td>\n",
       "    </tr>\n",
       "  </tbody>\n",
       "</table>\n",
       "</div>"
      ],
      "text/plain": [
       "est_plastique    False    True    Total\n",
       "est_bio                                \n",
       "False          1677057  124247  1801304\n",
       "True            126867   18763   145630\n",
       "Total          1803924  143010  1946934"
      ]
     },
     "execution_count": 130,
     "metadata": {},
     "output_type": "execute_result"
    }
   ],
   "source": [
    "X = 'est_bio'\n",
    "Y = 'est_plastique'\n",
    "\n",
    "\n",
    "\n",
    "cor2 = mixed_clean[[X,Y]].pivot_table(index=X,columns=Y,aggfunc=len,margins=True,margins_name=\"Total\")\n",
    "cor2"
   ]
  },
  {
   "cell_type": "code",
   "execution_count": 43,
   "id": "890eb20e-8be9-421d-84fb-635571acfdd1",
   "metadata": {},
   "outputs": [
    {
     "data": {
      "image/png": "[encoded data removed]",
      "text/plain": [
       "<Figure size 640x480 with 2 Axes>"
      ]
     },
     "metadata": {},
     "output_type": "display_data"
    }
   ],
   "source": [
    "import seaborn as sns\n",
    "\n",
    "\n",
    "c = cor2.fillna(0) # On remplace les valeurs nulles par 0\n",
    "measure = (c-indep)**2/indep\n",
    "xi_n = measure.sum().sum()\n",
    "table = measure/xi_n\n",
    "sns.heatmap(table.iloc[:-1,:-1],annot=c.iloc[:-1,:-1])\n",
    "plt.title('Matrice de corrélation entre les prduits bio et les produits en plastique')\n",
    "plt.show()"
   ]
  },
  {
   "cell_type": "code",
   "execution_count": 35,
   "id": "834370c7-170e-4143-a4f2-2fd42cc67bb3",
   "metadata": {},
   "outputs": [],
   "source": [
    "tx = cor2.loc[:,[\"Total\"]]\n",
    "ty = cor2.loc[[\"Total\"],:]\n",
    "n = len(mixed_clean)\n",
    "indep = round(tx.dot(ty) / n)"
   ]
  },
  {
   "cell_type": "code",
   "execution_count": 44,
   "id": "14429d06-a9cc-468b-ba0d-f9f67f594ba7",
   "metadata": {},
   "outputs": [
    {
     "data": {
      "text/html": [
       "<div>\n",
       "<style scoped>\n",
       "    .dataframe tbody tr th:only-of-type {\n",
       "        vertical-align: middle;\n",
       "    }\n",
       "\n",
       "    .dataframe tbody tr th {\n",
       "        vertical-align: top;\n",
       "    }\n",
       "\n",
       "    .dataframe thead th {\n",
       "        text-align: right;\n",
       "    }\n",
       "</style>\n",
       "<table border=\"1\" class=\"dataframe\">\n",
       "  <thead>\n",
       "    <tr style=\"text-align: right;\">\n",
       "      <th>est_plastique</th>\n",
       "      <th>False</th>\n",
       "      <th>True</th>\n",
       "      <th>Total</th>\n",
       "    </tr>\n",
       "    <tr>\n",
       "      <th>est_bio</th>\n",
       "      <th></th>\n",
       "      <th></th>\n",
       "      <th></th>\n",
       "    </tr>\n",
       "  </thead>\n",
       "  <tbody>\n",
       "    <tr>\n",
       "      <th>False</th>\n",
       "      <td>1668991.0</td>\n",
       "      <td>132313.0</td>\n",
       "      <td>1801304.0</td>\n",
       "    </tr>\n",
       "    <tr>\n",
       "      <th>True</th>\n",
       "      <td>134933.0</td>\n",
       "      <td>10697.0</td>\n",
       "      <td>145630.0</td>\n",
       "    </tr>\n",
       "    <tr>\n",
       "      <th>Total</th>\n",
       "      <td>1803924.0</td>\n",
       "      <td>143010.0</td>\n",
       "      <td>1946934.0</td>\n",
       "    </tr>\n",
       "  </tbody>\n",
       "</table>\n",
       "</div>"
      ],
      "text/plain": [
       "est_plastique      False      True      Total\n",
       "est_bio                                      \n",
       "False          1668991.0  132313.0  1801304.0\n",
       "True            134933.0   10697.0   145630.0\n",
       "Total          1803924.0  143010.0  1946934.0"
      ]
     },
     "execution_count": 44,
     "metadata": {},
     "output_type": "execute_result"
    }
   ],
   "source": [
    "indep"
   ]
  },
  {
   "cell_type": "code",
   "execution_count": 37,
   "id": "3cd5630b-49cf-4137-970a-2b046f61078e",
   "metadata": {},
   "outputs": [
    {
     "data": {
      "text/html": [
       "<div>\n",
       "<style scoped>\n",
       "    .dataframe tbody tr th:only-of-type {\n",
       "        vertical-align: middle;\n",
       "    }\n",
       "\n",
       "    .dataframe tbody tr th {\n",
       "        vertical-align: top;\n",
       "    }\n",
       "\n",
       "    .dataframe thead th {\n",
       "        text-align: right;\n",
       "    }\n",
       "</style>\n",
       "<table border=\"1\" class=\"dataframe\">\n",
       "  <thead>\n",
       "    <tr style=\"text-align: right;\">\n",
       "      <th>est_plastique</th>\n",
       "      <th>False</th>\n",
       "      <th>True</th>\n",
       "      <th>Total</th>\n",
       "    </tr>\n",
       "    <tr>\n",
       "      <th>est_bio</th>\n",
       "      <th></th>\n",
       "      <th></th>\n",
       "      <th></th>\n",
       "    </tr>\n",
       "  </thead>\n",
       "  <tbody>\n",
       "    <tr>\n",
       "      <th>False</th>\n",
       "      <td>0.004833</td>\n",
       "      <td>-0.060962</td>\n",
       "      <td>0.0</td>\n",
       "    </tr>\n",
       "    <tr>\n",
       "      <th>True</th>\n",
       "      <td>-0.059778</td>\n",
       "      <td>0.754043</td>\n",
       "      <td>0.0</td>\n",
       "    </tr>\n",
       "    <tr>\n",
       "      <th>Total</th>\n",
       "      <td>0.000000</td>\n",
       "      <td>0.000000</td>\n",
       "      <td>0.0</td>\n",
       "    </tr>\n",
       "  </tbody>\n",
       "</table>\n",
       "</div>"
      ],
      "text/plain": [
       "est_plastique     False      True  Total\n",
       "est_bio                                 \n",
       "False          0.004833 -0.060962    0.0\n",
       "True          -0.059778  0.754043    0.0\n",
       "Total          0.000000  0.000000    0.0"
      ]
     },
     "execution_count": 37,
     "metadata": {},
     "output_type": "execute_result"
    }
   ],
   "source": [
    "(cor2 - indep)/indep"
   ]
  },
  {
   "cell_type": "code",
   "execution_count": 38,
   "id": "fbb1a961-16fc-4e6b-a462-c01d17cbb878",
   "metadata": {},
   "outputs": [],
   "source": [
    "from scipy.stats import chi2_contingency as chi2_contingency"
   ]
  },
  {
   "cell_type": "code",
   "execution_count": 39,
   "id": "695e0763-c20a-41af-b4f9-3a4c51f0202b",
   "metadata": {},
   "outputs": [],
   "source": [
    "chi2, p, dof, expected_freq= chi2_contingency(cor2)"
   ]
  },
  {
   "cell_type": "code",
   "execution_count": 40,
   "id": "1534aa94-93a2-4433-9cfe-64f7ea8d3f84",
   "metadata": {},
   "outputs": [
    {
     "data": {
      "text/plain": [
       "7094.747208416198"
      ]
     },
     "execution_count": 40,
     "metadata": {},
     "output_type": "execute_result"
    }
   ],
   "source": [
    "chi2"
   ]
  },
  {
   "cell_type": "code",
   "execution_count": 150,
   "id": "55d48a9d-7b6f-4ed0-b9bb-a086cb924b6e",
   "metadata": {},
   "outputs": [
    {
     "data": {
      "text/plain": [
       "0.0"
      ]
     },
     "execution_count": 150,
     "metadata": {},
     "output_type": "execute_result"
    }
   ],
   "source": [
    "# en en déduit qu'il y corrélation \n",
    "p"
   ]
  },
  {
   "cell_type": "code",
   "execution_count": 151,
   "id": "a5ba798f-b949-445f-8d61-a0008597a062",
   "metadata": {},
   "outputs": [],
   "source": [
    "# et que le chi² est viable "
   ]
  }
 ],
 "metadata": {
  "kernelspec": {
   "display_name": "Python 3 (ipykernel)",
   "language": "python",
   "name": "python3"
  },
  "language_info": {
   "codemirror_mode": {
    "name": "ipython",
    "version": 3
   },
   "file_extension": ".py",
   "mimetype": "text/x-python",
   "name": "python",
   "nbconvert_exporter": "python",
   "pygments_lexer": "ipython3",
   "version": "3.11.3"
  }
 },
 "nbformat": 4,
 "nbformat_minor": 5
}
